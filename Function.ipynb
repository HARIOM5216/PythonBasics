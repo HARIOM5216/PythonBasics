{
  "nbformat": 4,
  "nbformat_minor": 0,
  "metadata": {
    "colab": {
      "provenance": []
    },
    "kernelspec": {
      "name": "python3",
      "display_name": "Python 3"
    },
    "language_info": {
      "name": "python"
    }
  },
  "cells": [
    {
      "cell_type": "markdown",
      "source": [
        "#Theory Questions:"
      ],
      "metadata": {
        "id": "yK9s6RgPK6ov"
      }
    },
    {
      "cell_type": "markdown",
      "source": [
        "1. What is the difference between a function and a method in Python?\n",
        "  - Function is a block of code which performs some specific tasks/ computation.\n",
        "  - A method is a function defined inside a class and operates on an object of that class."
      ],
      "metadata": {
        "id": "hyAJTp62LExC"
      }
    },
    {
      "cell_type": "code",
      "execution_count": null,
      "metadata": {
        "colab": {
          "base_uri": "https://localhost:8080/"
        },
        "id": "cl8nWsXQKzm_",
        "outputId": "de349bb1-e93b-4b38-cafa-436379c3720d"
      },
      "outputs": [
        {
          "output_type": "stream",
          "name": "stdout",
          "text": [
            "hello\n",
            "Hello, Hariom!\n"
          ]
        }
      ],
      "source": [
        "# EXAMPLE OF FUNCTION\n",
        "def greet():\n",
        "  print(\"hello\")\n",
        "greet()\n",
        "\n",
        "# EXAMPLE OF METHOD\n",
        "class Person:\n",
        "    def __init__(self, name):\n",
        "        self.name = name\n",
        "\n",
        "    def greet(self):\n",
        "        return f\"Hello, {self.name}!\"\n",
        "\n",
        "person = Person(\"Hariom\")\n",
        "print(person.greet())"
      ]
    },
    {
      "cell_type": "markdown",
      "source": [
        "2. Explain the concept of function arguments and parameters in Python.\n",
        "  - Parameter\tare variable listed inside the parentheses in the function definition.\n",
        "  -Argument\tare the actual value passed to the function when it is called."
      ],
      "metadata": {
        "id": "PTOHnGB2P_cM"
      }
    },
    {
      "cell_type": "code",
      "source": [
        "# EXAMPLE:\n",
        "def greet(name):    #name is paraameter\n",
        "  print(f\"Hello {name}\")\n",
        "greet(\"Hariom\") # Hariom is argumemnt\n"
      ],
      "metadata": {
        "colab": {
          "base_uri": "https://localhost:8080/"
        },
        "id": "T9iSvNGvUH2p",
        "outputId": "569ff53d-0802-4e97-86c1-77d2e470af28"
      },
      "execution_count": null,
      "outputs": [
        {
          "output_type": "stream",
          "name": "stdout",
          "text": [
            "Hello Hariom\n"
          ]
        }
      ]
    },
    {
      "cell_type": "markdown",
      "source": [
        "3.  What are the different ways to define and call a function in Python?\n",
        "\n",
        "  - we use the 'def' keyword, followed by the function name, parenthesis '()', and a colon ':'\n",
        "\n",
        "      - def function_name(parameter):\n",
        "    return(\"anything\")\n",
        "\n",
        "  - we call a function by using its name followed bu parenthesis'()'. If the function require paratmeters, we include them inside the parentheses.\n",
        "      - function_name(parameter)\n",
        "\n"
      ],
      "metadata": {
        "id": "wbvBlMdkVA0L"
      }
    },
    {
      "cell_type": "code",
      "source": [
        "#EXAMPLE\n",
        "def greet(name):\n",
        "  print(f\"Hello {name}\")\n",
        "greet(\"Hariom!\")"
      ],
      "metadata": {
        "colab": {
          "base_uri": "https://localhost:8080/"
        },
        "id": "86vswWcNUq3r",
        "outputId": "9496df11-33e3-4f13-9f0b-97b0ed59f628"
      },
      "execution_count": null,
      "outputs": [
        {
          "output_type": "stream",
          "name": "stdout",
          "text": [
            "Hello Hariom!\n"
          ]
        }
      ]
    },
    {
      "cell_type": "markdown",
      "source": [
        "4. What is the purpose of the `return` statement in a Python function?\n",
        "  - A return statement is used to end the execution of the function call and it \"returns\" the value of the expression following the return keyword to the caller."
      ],
      "metadata": {
        "id": "EqN7h-r6s1bx"
      }
    },
    {
      "cell_type": "code",
      "source": [
        "#EXAMPLE\n",
        "def add(a,b):\n",
        "  return a+b\n",
        "add(2,3)        # calling the function"
      ],
      "metadata": {
        "colab": {
          "base_uri": "https://localhost:8080/"
        },
        "id": "Q_KV-Nq4soGX",
        "outputId": "9533f31d-e0e7-4749-eaf9-ea88063e90f4"
      },
      "execution_count": null,
      "outputs": [
        {
          "output_type": "execute_result",
          "data": {
            "text/plain": [
              "5"
            ]
          },
          "metadata": {},
          "execution_count": 8
        }
      ]
    },
    {
      "cell_type": "markdown",
      "source": [
        "5. What are iterators in Python and how do they differ from iterables?\n",
        "  - iterator is an object representing a stream of data & the work of it is to  return the data one by one. it returns the next item when you call next() on it.\n",
        "  - Iterable is any python object/sequential string/data structure that is capable of returning its members one at a time.\n",
        "      - example: list, tuple , dictionary, set, string\n",
        "      "
      ],
      "metadata": {
        "id": "9j7OO5GDvljq"
      }
    },
    {
      "cell_type": "code",
      "source": [
        "#Example:\n",
        "list = [\"apple\", \"banana\", \"cherry\"]\n",
        "iterator = iter(list)\n",
        "print(next(iterator))\n",
        "print(next(iterator))\n",
        "print(next(iterator))"
      ],
      "metadata": {
        "colab": {
          "base_uri": "https://localhost:8080/"
        },
        "id": "xP4mBkwbu7bB",
        "outputId": "6158b031-0374-47c3-e4a0-f10028ca6c1c"
      },
      "execution_count": null,
      "outputs": [
        {
          "output_type": "stream",
          "name": "stdout",
          "text": [
            "apple\n",
            "banana\n",
            "cherry\n"
          ]
        }
      ]
    },
    {
      "cell_type": "markdown",
      "source": [
        "6. Explain the concept of generators in Python and how they are defined.\n",
        "  - A generator is a special type of iterator in Python that lets you generate values on the fly, instead of storing them all in memory at once.\n",
        "  - Generators are defined using functions with the yield keyword instead of return."
      ],
      "metadata": {
        "id": "o9nmX122yVJc"
      }
    },
    {
      "cell_type": "code",
      "source": [
        "#EXAMPLE\n",
        "def square_numbers(n):\n",
        "    for i in range(n):\n",
        "        yield i**2\n",
        "square_numbers(5)"
      ],
      "metadata": {
        "colab": {
          "base_uri": "https://localhost:8080/"
        },
        "id": "ps5D-qsCx32F",
        "outputId": "d1c53231-9f2f-4e2f-c544-7589e7b1d977"
      },
      "execution_count": null,
      "outputs": [
        {
          "output_type": "execute_result",
          "data": {
            "text/plain": [
              "<generator object square_numbers at 0x7ec03e727510>"
            ]
          },
          "metadata": {},
          "execution_count": 23
        }
      ]
    },
    {
      "cell_type": "code",
      "source": [
        "gen = square_numbers(5)\n",
        "next(gen)"
      ],
      "metadata": {
        "colab": {
          "base_uri": "https://localhost:8080/"
        },
        "id": "2442Q3pjz2KU",
        "outputId": "63ef58c1-b497-4c87-9318-4f3caa59edab"
      },
      "execution_count": null,
      "outputs": [
        {
          "output_type": "execute_result",
          "data": {
            "text/plain": [
              "0"
            ]
          },
          "metadata": {},
          "execution_count": 24
        }
      ]
    },
    {
      "cell_type": "code",
      "source": [
        "next(gen)"
      ],
      "metadata": {
        "colab": {
          "base_uri": "https://localhost:8080/"
        },
        "id": "k1Qb_Skq0CeI",
        "outputId": "2a2618d9-f1a1-4d27-dde1-be8b922b9ad2"
      },
      "execution_count": null,
      "outputs": [
        {
          "output_type": "execute_result",
          "data": {
            "text/plain": [
              "1"
            ]
          },
          "metadata": {},
          "execution_count": 25
        }
      ]
    },
    {
      "cell_type": "code",
      "source": [
        "next(gen)"
      ],
      "metadata": {
        "colab": {
          "base_uri": "https://localhost:8080/"
        },
        "id": "IZL9CwED07I2",
        "outputId": "e00c3530-d546-446c-ccd9-8d304c051439"
      },
      "execution_count": null,
      "outputs": [
        {
          "output_type": "execute_result",
          "data": {
            "text/plain": [
              "4"
            ]
          },
          "metadata": {},
          "execution_count": 26
        }
      ]
    },
    {
      "cell_type": "code",
      "source": [
        "next(gen)"
      ],
      "metadata": {
        "colab": {
          "base_uri": "https://localhost:8080/"
        },
        "id": "F7EPlVkD09a6",
        "outputId": "f6d7ce27-85b7-4968-9d40-40f88100ef23"
      },
      "execution_count": null,
      "outputs": [
        {
          "output_type": "execute_result",
          "data": {
            "text/plain": [
              "9"
            ]
          },
          "metadata": {},
          "execution_count": 27
        }
      ]
    },
    {
      "cell_type": "markdown",
      "source": [
        "7.What are the advantages of using generators over regular functions?\n",
        "  - A generator in Python is a special type of function that allows you to iterate over a set of values. Unlike a regular function, a generator does not return its results all at once. Instead, it yields its values one by one, each time it is called. This makes it possible to generate an infinite sequence of values, as long as there is sufficient memory to store them."
      ],
      "metadata": {
        "id": "rr_T8S2U1HRr"
      }
    },
    {
      "cell_type": "code",
      "source": [
        "#EXAMPLE\n",
        "# REGULAR FUNCTION\n",
        "def square_numbers(n):\n",
        "  result = []\n",
        "  for i in n:\n",
        "    result.append(i**2)\n",
        "  return result\n",
        "square_numbers([1,2,3,4,5])\n",
        "\n",
        "# GENERATOR"
      ],
      "metadata": {
        "colab": {
          "base_uri": "https://localhost:8080/"
        },
        "id": "w4kLfAJx2TBR",
        "outputId": "a00910ac-2e2d-48ff-fa79-ea3cdde2ad3a"
      },
      "execution_count": null,
      "outputs": [
        {
          "output_type": "execute_result",
          "data": {
            "text/plain": [
              "[1, 4, 9, 16, 25]"
            ]
          },
          "metadata": {},
          "execution_count": 28
        }
      ]
    },
    {
      "cell_type": "code",
      "source": [
        "#EXAMPLE\n",
        "# GENERATOR FUNCTION\n",
        "def square_numbers(n):\n",
        "    for i in range(n):\n",
        "        yield i**2\n",
        "square_numbers(5)"
      ],
      "metadata": {
        "colab": {
          "base_uri": "https://localhost:8080/"
        },
        "id": "bY8fuZd86ZVK",
        "outputId": "241bd9af-608a-4080-98d3-a82bab64160b"
      },
      "execution_count": null,
      "outputs": [
        {
          "output_type": "execute_result",
          "data": {
            "text/plain": [
              "<generator object square_numbers at 0x7ec03e7253c0>"
            ]
          },
          "metadata": {},
          "execution_count": 29
        }
      ]
    },
    {
      "cell_type": "code",
      "source": [
        "gen = square_numbers(5)\n",
        "next(gen)"
      ],
      "metadata": {
        "colab": {
          "base_uri": "https://localhost:8080/"
        },
        "id": "g2XTgLDS9Vdr",
        "outputId": "3d719509-614d-43d0-ce8e-2a9a6512135c"
      },
      "execution_count": null,
      "outputs": [
        {
          "output_type": "execute_result",
          "data": {
            "text/plain": [
              "0"
            ]
          },
          "metadata": {},
          "execution_count": 30
        }
      ]
    },
    {
      "cell_type": "code",
      "source": [
        "next(gen)"
      ],
      "metadata": {
        "colab": {
          "base_uri": "https://localhost:8080/"
        },
        "id": "oX7mMxX99hSc",
        "outputId": "484f02c4-78c8-4de3-faed-ae354e9a9570"
      },
      "execution_count": null,
      "outputs": [
        {
          "output_type": "execute_result",
          "data": {
            "text/plain": [
              "1"
            ]
          },
          "metadata": {},
          "execution_count": 31
        }
      ]
    },
    {
      "cell_type": "code",
      "source": [
        "next(gen)"
      ],
      "metadata": {
        "colab": {
          "base_uri": "https://localhost:8080/"
        },
        "id": "F33rlwDX9lSc",
        "outputId": "ce842f81-7f57-41bb-ff16-3142bf00c30c"
      },
      "execution_count": null,
      "outputs": [
        {
          "output_type": "execute_result",
          "data": {
            "text/plain": [
              "4"
            ]
          },
          "metadata": {},
          "execution_count": 32
        }
      ]
    },
    {
      "cell_type": "code",
      "source": [
        "next(gen)"
      ],
      "metadata": {
        "colab": {
          "base_uri": "https://localhost:8080/"
        },
        "id": "u6gElxhx9n3W",
        "outputId": "ebc07b97-7430-4005-f182-35a25bd8f925"
      },
      "execution_count": null,
      "outputs": [
        {
          "output_type": "execute_result",
          "data": {
            "text/plain": [
              "9"
            ]
          },
          "metadata": {},
          "execution_count": 33
        }
      ]
    },
    {
      "cell_type": "markdown",
      "source": [
        "8. What is a lambda function in Python and when is it typically used?\n",
        "  - lambda is anonymous function also called as short hand function\n",
        "      - Syntax: lambda arguments : expression\n",
        "  - Lambda functions are commonly used for short, throwaway functions, especially when passing a simple function as an argument to higher-order functions like:\n",
        "\n",
        "    - map() - applies a function to all items in an iterable\n",
        "\n",
        "    - filter() - filters items in an iterable based on a condition\n",
        "\n",
        "    - sorted() - custom sort logic\n",
        "\n",
        "    - reduce() (from functools) - applies a rolling computation"
      ],
      "metadata": {
        "id": "siQOtu5194TU"
      }
    },
    {
      "cell_type": "code",
      "source": [
        "#EXAMPLE\n",
        "add = lambda x, y: x + y\n",
        "print(add(3, 5))\n"
      ],
      "metadata": {
        "colab": {
          "base_uri": "https://localhost:8080/"
        },
        "id": "Nqt3HrTe9rRY",
        "outputId": "11871f3f-f22d-4084-d0a4-0e3494e46c7a"
      },
      "execution_count": null,
      "outputs": [
        {
          "output_type": "stream",
          "name": "stdout",
          "text": [
            "8\n"
          ]
        }
      ]
    },
    {
      "cell_type": "markdown",
      "source": [
        "9. Explain the purpose and usage of the `map()` function in Python.\n",
        "  - 'map()' function executes a specified function for each of item of an iterable.\n",
        "  -  The map() function is used to apply a given function to each item of an iterable (like a list or tuple) and return a new iterable (a map object) with the results."
      ],
      "metadata": {
        "id": "id9zREi9BJI1"
      }
    },
    {
      "cell_type": "code",
      "source": [
        "#EXAMPLE\n",
        "numbers = [1, 2, 3, 4, 5]\n",
        "squared = map(lambda x: x**2, numbers)\n",
        "print(list(squared))"
      ],
      "metadata": {
        "colab": {
          "base_uri": "https://localhost:8080/"
        },
        "id": "uIvnh-gIAbe8",
        "outputId": "dbc388d8-009d-4f10-a226-d36fc5dc6524"
      },
      "execution_count": null,
      "outputs": [
        {
          "output_type": "stream",
          "name": "stdout",
          "text": [
            "[1, 4, 9, 16, 25]\n"
          ]
        }
      ]
    },
    {
      "cell_type": "markdown",
      "source": [
        "10. What is the difference between `map()`, `reduce()`, and `filter()` functions in Python?\n",
        "  -  Map, Filter, and Reduce are built-in Python functions that can be used for functional programming tasks. With the help of these operations, WE may apply a specific function to sequence items using the 'map', filter sequence elements based on a condition using the 'filter', and cumulatively aggregate elements using the 'reduce'."
      ],
      "metadata": {
        "id": "gWEU6R0KLemW"
      }
    },
    {
      "cell_type": "code",
      "source": [
        "# Example of using map, filter, and reduce in Python\n",
        "data = [1, 2, 3]\n",
        "\n",
        "# Using the map\n",
        "result1 = map(lambda x: x * 2, data)\n"
      ],
      "metadata": {
        "id": "Hc-fFbAGN13V"
      },
      "execution_count": null,
      "outputs": []
    },
    {
      "cell_type": "code",
      "source": [
        "next(result1)"
      ],
      "metadata": {
        "colab": {
          "base_uri": "https://localhost:8080/"
        },
        "id": "Vh1K2f_HN9M5",
        "outputId": "865e6092-9372-43a2-daf2-638d121e1b50"
      },
      "execution_count": null,
      "outputs": [
        {
          "output_type": "execute_result",
          "data": {
            "text/plain": [
              "2"
            ]
          },
          "metadata": {},
          "execution_count": 17
        }
      ]
    },
    {
      "cell_type": "code",
      "source": [
        "next(result1)"
      ],
      "metadata": {
        "colab": {
          "base_uri": "https://localhost:8080/"
        },
        "id": "9044HZ2GOA3v",
        "outputId": "5dc95f8f-7f41-4229-a99d-73fda3cbba23"
      },
      "execution_count": null,
      "outputs": [
        {
          "output_type": "execute_result",
          "data": {
            "text/plain": [
              "4"
            ]
          },
          "metadata": {},
          "execution_count": 18
        }
      ]
    },
    {
      "cell_type": "code",
      "source": [
        "next(result1)"
      ],
      "metadata": {
        "colab": {
          "base_uri": "https://localhost:8080/"
        },
        "id": "t3AbLJiaOElU",
        "outputId": "782cece2-3dfc-4da9-bddb-c185934837b3"
      },
      "execution_count": null,
      "outputs": [
        {
          "output_type": "execute_result",
          "data": {
            "text/plain": [
              "6"
            ]
          },
          "metadata": {},
          "execution_count": 20
        }
      ]
    },
    {
      "cell_type": "code",
      "source": [
        "# Using the filter\n",
        "result2 = filter(lambda x: x % 2 == 0, data)\n"
      ],
      "metadata": {
        "id": "B0Tj3MwWOH4B"
      },
      "execution_count": null,
      "outputs": []
    },
    {
      "cell_type": "code",
      "source": [
        "next(result2)"
      ],
      "metadata": {
        "colab": {
          "base_uri": "https://localhost:8080/"
        },
        "id": "tlrM2k6VOfnG",
        "outputId": "2fe967db-4208-41a6-e9d6-d36e399bd57b"
      },
      "execution_count": null,
      "outputs": [
        {
          "output_type": "execute_result",
          "data": {
            "text/plain": [
              "2"
            ]
          },
          "metadata": {},
          "execution_count": 22
        }
      ]
    },
    {
      "cell_type": "code",
      "source": [
        "next(result2)"
      ],
      "metadata": {
        "colab": {
          "base_uri": "https://localhost:8080/"
        },
        "id": "GUgr0i8nOjns",
        "outputId": "e550a84e-87d6-4e3b-f0ec-c1806015602c"
      },
      "execution_count": null,
      "outputs": [
        {
          "output_type": "execute_result",
          "data": {
            "text/plain": [
              "4"
            ]
          },
          "metadata": {},
          "execution_count": 23
        }
      ]
    },
    {
      "cell_type": "code",
      "source": [
        "# Using reduce\n",
        "result3 = reduce(lambda x, y: x * y, data)"
      ],
      "metadata": {
        "id": "KWlyaXh_Onma"
      },
      "execution_count": null,
      "outputs": []
    },
    {
      "cell_type": "code",
      "source": [
        "result3"
      ],
      "metadata": {
        "colab": {
          "base_uri": "https://localhost:8080/"
        },
        "id": "SvfWMGYcOysk",
        "outputId": "92bd2e91-9977-467e-dbbf-85b65a70e997"
      },
      "execution_count": null,
      "outputs": [
        {
          "output_type": "execute_result",
          "data": {
            "text/plain": [
              "120"
            ]
          },
          "metadata": {},
          "execution_count": 30
        }
      ]
    },
    {
      "cell_type": "markdown",
      "source": [
        "11. Using pen & Paper write the internal mechanism for sum operation using  reduce function on this given\n",
        "list:[47,11,42,13];"
      ],
      "metadata": {
        "id": "YdEvencwSqln"
      }
    },
    {
      "cell_type": "code",
      "source": [
        "import matplotlib.pyplot as plt\n",
        "import matplotlib.image as mpimg\n",
        "\n",
        "# Path to your image file\n",
        "image_path = '/content/WhatsApp Image 2025-07-20 at 10.52.26_5b17a9f8.jpg'\n",
        "\n",
        "# Load and display the image\n",
        "img = mpimg.imread(image_path)\n",
        "plt.imshow(img)\n",
        "plt.axis('off')\n",
        "plt.show()"
      ],
      "metadata": {
        "colab": {
          "base_uri": "https://localhost:8080/",
          "height": 295
        },
        "id": "2Z5gGliKwsZ7",
        "outputId": "a27ae514-f04c-4c58-e15a-e9de1c6c9f29"
      },
      "execution_count": 58,
      "outputs": [
        {
          "output_type": "display_data",
          "data": {
            "text/plain": [
              "<Figure size 640x480 with 1 Axes>"
            ],
            "image/png": "[encoded data removed]"
          },
          "metadata": {}
        }
      ]
    },
    {
      "cell_type": "markdown",
      "source": [],
      "metadata": {
        "id": "vJDXGtaiTFCm"
      }
    },
    {
      "cell_type": "markdown",
      "source": [
        "#Practical Questions:"
      ],
      "metadata": {
        "id": "7r4Px8lHTJAd"
      }
    },
    {
      "cell_type": "markdown",
      "source": [
        "1. Write a Python function that takes a list of numbers as input and returns the sum of all even numbers in\n",
        "the list."
      ],
      "metadata": {
        "id": "7_5VxzzBTN1Q"
      }
    },
    {
      "cell_type": "code",
      "source": [
        "def sum_even_numbers(numbers):\n",
        "    sum = 0\n",
        "    for num in numbers:\n",
        "        if num % 2 == 0:\n",
        "            sum += num\n",
        "    return sum"
      ],
      "metadata": {
        "id": "pY_sq954TTmM"
      },
      "execution_count": null,
      "outputs": []
    },
    {
      "cell_type": "code",
      "source": [
        "sum_even_numbers([1,2,3,4,5,6])\n"
      ],
      "metadata": {
        "colab": {
          "base_uri": "https://localhost:8080/"
        },
        "id": "QdnugQFHT1xv",
        "outputId": "61246e0e-159a-481a-c021-b6cedc329cd8"
      },
      "execution_count": null,
      "outputs": [
        {
          "output_type": "execute_result",
          "data": {
            "text/plain": [
              "12"
            ]
          },
          "metadata": {},
          "execution_count": 2
        }
      ]
    },
    {
      "cell_type": "markdown",
      "source": [
        "2. Create a Python function that accepts a string and returns the reverse of that string."
      ],
      "metadata": {
        "id": "zm_y-Tm8UlrE"
      }
    },
    {
      "cell_type": "code",
      "source": [
        "def reverse_string(string):\n",
        "    return string[::-1]\n",
        "reverse_string(\"Hariom\")"
      ],
      "metadata": {
        "colab": {
          "base_uri": "https://localhost:8080/",
          "height": 36
        },
        "id": "hA2NeSTPUmpD",
        "outputId": "2bcfff55-8144-4018-a60a-cafb2481dd14"
      },
      "execution_count": null,
      "outputs": [
        {
          "output_type": "execute_result",
          "data": {
            "text/plain": [
              "'moiraH'"
            ],
            "application/vnd.google.colaboratory.intrinsic+json": {
              "type": "string"
            }
          },
          "metadata": {},
          "execution_count": 3
        }
      ]
    },
    {
      "cell_type": "markdown",
      "source": [
        "3. Implement a Python function that takes a list of integers and returns a new list containing the squares of\n",
        "each number."
      ],
      "metadata": {
        "id": "96qYK6y_VLdC"
      }
    },
    {
      "cell_type": "code",
      "source": [
        "l = [1,2,3,4,5]\n",
        "def square_numbers(numbers):\n",
        "    squares = []\n",
        "    for num in numbers:\n",
        "        squares.append(num**2)\n",
        "    return squares\n",
        "square_numbers(l)"
      ],
      "metadata": {
        "colab": {
          "base_uri": "https://localhost:8080/"
        },
        "id": "LOIlDZ-AVDeL",
        "outputId": "ce626761-d7ef-41be-fba7-152bc6f7bfe6"
      },
      "execution_count": null,
      "outputs": [
        {
          "output_type": "execute_result",
          "data": {
            "text/plain": [
              "[1, 4, 9, 16, 25]"
            ]
          },
          "metadata": {},
          "execution_count": 4
        }
      ]
    },
    {
      "cell_type": "markdown",
      "source": [
        "4. Write a Python function that checks if a given number is prime or not from 1 to 200."
      ],
      "metadata": {
        "id": "WFGF_FIfVupZ"
      }
    },
    {
      "cell_type": "code",
      "source": [
        "import math\n",
        "\n",
        "def is_prime(n):\n",
        "    if n <= 1:\n",
        "        return False\n",
        "    for i in range(2,  int(math.sqrt(n))  + 1):\n",
        "        if n % i == 0:\n",
        "            return False\n",
        "    return True\n",
        "\n",
        "# Check prime numbers from 1 to 200\n",
        "for num in range(1, 201):\n",
        "    if is_prime(num):\n",
        "        print(f\"{num} is prime\")"
      ],
      "metadata": {
        "colab": {
          "base_uri": "https://localhost:8080/"
        },
        "id": "wqE_UV3IVxPa",
        "outputId": "4914f977-a436-41bd-b040-c08fd68ce79a"
      },
      "execution_count": null,
      "outputs": [
        {
          "output_type": "stream",
          "name": "stdout",
          "text": [
            "2 is prime\n",
            "3 is prime\n",
            "5 is prime\n",
            "7 is prime\n",
            "11 is prime\n",
            "13 is prime\n",
            "17 is prime\n",
            "19 is prime\n",
            "23 is prime\n",
            "29 is prime\n",
            "31 is prime\n",
            "37 is prime\n",
            "41 is prime\n",
            "43 is prime\n",
            "47 is prime\n",
            "53 is prime\n",
            "59 is prime\n",
            "61 is prime\n",
            "67 is prime\n",
            "71 is prime\n",
            "73 is prime\n",
            "79 is prime\n",
            "83 is prime\n",
            "89 is prime\n",
            "97 is prime\n",
            "101 is prime\n",
            "103 is prime\n",
            "107 is prime\n",
            "109 is prime\n",
            "113 is prime\n",
            "127 is prime\n",
            "131 is prime\n",
            "137 is prime\n",
            "139 is prime\n",
            "149 is prime\n",
            "151 is prime\n",
            "157 is prime\n",
            "163 is prime\n",
            "167 is prime\n",
            "173 is prime\n",
            "179 is prime\n",
            "181 is prime\n",
            "191 is prime\n",
            "193 is prime\n",
            "197 is prime\n",
            "199 is prime\n"
          ]
        }
      ]
    },
    {
      "cell_type": "markdown",
      "source": [
        "5. Create an iterator class in Python that generates the Fibonacci sequence up to a specified number of\n",
        "terms."
      ],
      "metadata": {
        "id": "mHghlIoDYCgD"
      }
    },
    {
      "cell_type": "code",
      "source": [
        "class FibonacciIterator:\n",
        "    def __init__(self, max_terms):\n",
        "        self.max_terms = 10\n",
        "        self.count = 0\n",
        "        self.a = 0                  # First Fibonacci number\n",
        "        self.b = 1                  # Second Fibonacci number\n",
        "\n",
        "    def __iter__(self):\n",
        "        return self\n",
        "\n",
        "    def __next__(self):\n",
        "        if self.count >= self.max_terms:\n",
        "            raise StopIteration\n",
        "\n",
        "        if self.count == 0:\n",
        "            self.count += 1\n",
        "            return self.a\n",
        "        elif self.count == 1:\n",
        "            self.count += 1\n",
        "            return self.b\n",
        "        else:\n",
        "            self.a, self.b = self.b, self.a + self.b\n",
        "            self.count += 1\n",
        "            return self.b\n",
        "\n",
        "\n",
        "fib = FibonacciIterator(10)\n",
        "for num in fib:\n",
        "    print(num)\n"
      ],
      "metadata": {
        "colab": {
          "base_uri": "https://localhost:8080/"
        },
        "id": "xwr3WB4lcFoz",
        "outputId": "e94e48c8-7815-40f4-eb0f-f540ea2cce9c"
      },
      "execution_count": null,
      "outputs": [
        {
          "output_type": "stream",
          "name": "stdout",
          "text": [
            "0\n",
            "1\n",
            "1\n",
            "2\n",
            "3\n",
            "5\n",
            "8\n",
            "13\n",
            "21\n",
            "34\n"
          ]
        }
      ]
    },
    {
      "cell_type": "markdown",
      "source": [
        "6. Write a generator function in Python that yields the powers of 2 up to a given exponent."
      ],
      "metadata": {
        "id": "Js-R9hNFeCSj"
      }
    },
    {
      "cell_type": "code",
      "source": [
        "def square_numbers(n):\n",
        "    for i in range(n):\n",
        "        yield i**2\n",
        "square_numbers(5)"
      ],
      "metadata": {
        "colab": {
          "base_uri": "https://localhost:8080/"
        },
        "id": "mG3juBb1eEMf",
        "outputId": "4a3621f8-fd58-4125-8ba9-09e69d09250c"
      },
      "execution_count": null,
      "outputs": [
        {
          "output_type": "execute_result",
          "data": {
            "text/plain": [
              "<generator object square_numbers at 0x7f64a52cec20>"
            ]
          },
          "metadata": {},
          "execution_count": 22
        }
      ]
    },
    {
      "cell_type": "code",
      "source": [
        "gen = square_numbers(5)\n",
        "next(gen)"
      ],
      "metadata": {
        "colab": {
          "base_uri": "https://localhost:8080/"
        },
        "id": "pWnomBtEhPc7",
        "outputId": "b1f90c88-1c59-4ae8-9e06-4030a98df71f"
      },
      "execution_count": null,
      "outputs": [
        {
          "output_type": "execute_result",
          "data": {
            "text/plain": [
              "0"
            ]
          },
          "metadata": {},
          "execution_count": 28
        }
      ]
    },
    {
      "cell_type": "code",
      "source": [
        "next(gen)"
      ],
      "metadata": {
        "colab": {
          "base_uri": "https://localhost:8080/"
        },
        "id": "WEI8aNTXhb_i",
        "outputId": "7699d8a5-e220-4dc1-a68c-3dcb7ee55394"
      },
      "execution_count": null,
      "outputs": [
        {
          "output_type": "execute_result",
          "data": {
            "text/plain": [
              "1"
            ]
          },
          "metadata": {},
          "execution_count": 29
        }
      ]
    },
    {
      "cell_type": "code",
      "source": [
        "next(gen)"
      ],
      "metadata": {
        "colab": {
          "base_uri": "https://localhost:8080/"
        },
        "id": "G1iDzRDqhhzo",
        "outputId": "cb31bcdf-356b-4bd0-e766-70b35af64b14"
      },
      "execution_count": null,
      "outputs": [
        {
          "output_type": "execute_result",
          "data": {
            "text/plain": [
              "4"
            ]
          },
          "metadata": {},
          "execution_count": 30
        }
      ]
    },
    {
      "cell_type": "code",
      "source": [
        "next(gen)"
      ],
      "metadata": {
        "colab": {
          "base_uri": "https://localhost:8080/"
        },
        "id": "jT6UGY0vht4u",
        "outputId": "c9da0b25-51cb-48d3-ec10-5d46dea8def9"
      },
      "execution_count": null,
      "outputs": [
        {
          "output_type": "execute_result",
          "data": {
            "text/plain": [
              "9"
            ]
          },
          "metadata": {},
          "execution_count": 31
        }
      ]
    },
    {
      "cell_type": "markdown",
      "source": [
        "7. Implement a generator function that reads a file line by line and yields each line as a string."
      ],
      "metadata": {
        "id": "RGiUfsgSeDVg"
      }
    },
    {
      "cell_type": "code",
      "source": [
        "def read_file_line_by_line(file_path):\n",
        "    with open(file_path, 'r') as file:\n",
        "        for line in file:\n",
        "            yield line.rstrip('\\n')\n",
        "\n",
        "file_path = '/content/Python_read.txt'\n",
        "generator = read_file_line_by_line(file_path)\n",
        "\n",
        "for line in generator:\n",
        "    print(line)"
      ],
      "metadata": {
        "id": "MLnGbHvji54b",
        "colab": {
          "base_uri": "https://localhost:8080/"
        },
        "outputId": "397635e9-10cf-46d7-ccaf-62a77bc10ba3"
      },
      "execution_count": 59,
      "outputs": [
        {
          "output_type": "stream",
          "name": "stdout",
          "text": [
            "Python is one of the most popular programming languages. It’s simple to use, packed with features and supported by a wide range of libraries and frameworks. Its clean syntax makes it beginner-friendly. It's a high-level language, used in web development, data science, automation, AI and more.\n",
            "Known for its readability, which means code is easier to write, understand and maintain.\n",
            "Backed by library support, so we don’t have to build everything from scratch, there’s probably a library that already does what we need.\n"
          ]
        }
      ]
    },
    {
      "cell_type": "markdown",
      "source": [
        "8. Use a lambda function in Python to sort a list of tuples based on the second element of each tuple."
      ],
      "metadata": {
        "id": "_z2Ne4tOlOmy"
      }
    },
    {
      "cell_type": "code",
      "source": [
        "def sort_list_of_tuples(lst):\n",
        "    return sorted(lst, key=lambda x: x[1])\n",
        "lst = [(1, 3), (2, 1), (3, 2), (4, 4)]\n",
        "sort_list_of_tuples(lst)"
      ],
      "metadata": {
        "colab": {
          "base_uri": "https://localhost:8080/"
        },
        "id": "V61zqXsGlPyK",
        "outputId": "4a92189c-a3b0-45d5-f5db-07ac4434bc79"
      },
      "execution_count": null,
      "outputs": [
        {
          "output_type": "execute_result",
          "data": {
            "text/plain": [
              "[(2, 1), (3, 2), (1, 3), (4, 4)]"
            ]
          },
          "metadata": {},
          "execution_count": 38
        }
      ]
    },
    {
      "cell_type": "markdown",
      "source": [
        "9. Write a Python program that uses `map()` to convert a list of temperatures from Celsius to Fahrenheit."
      ],
      "metadata": {
        "id": "rIOkcuK1l9BC"
      }
    },
    {
      "cell_type": "code",
      "source": [
        "celsius_temps = [0, 20, 37, 100]\n",
        "\n",
        "def celsius_to_fahrenheit(c):\n",
        "    return c * 9/5 + 32\n",
        "\n",
        "fahrenheit_temps = list(map(celsius_to_fahrenheit, celsius_temps))\n",
        "\n",
        "print(fahrenheit_temps)"
      ],
      "metadata": {
        "colab": {
          "base_uri": "https://localhost:8080/"
        },
        "id": "gs9JxpWilxs0",
        "outputId": "4d84c06d-d375-4d5e-b36b-f59b8bad3b05"
      },
      "execution_count": null,
      "outputs": [
        {
          "output_type": "stream",
          "name": "stdout",
          "text": [
            "[32.0, 68.0, 98.6, 212.0]\n"
          ]
        }
      ]
    },
    {
      "cell_type": "markdown",
      "source": [
        "10. Create a Python program that uses `filter()` to remove all the vowels from a given string."
      ],
      "metadata": {
        "id": "g5tNc7IhoCIy"
      }
    },
    {
      "cell_type": "code",
      "source": [
        "def remove_vovel(string):\n",
        "  vowels = \"aeiouAEIOU\"\n",
        "  filtered_string = \"\"\n",
        "  for char in string:\n",
        "    if char not in vowels:\n",
        "      filtered_string += char\n",
        "  return filtered_string"
      ],
      "metadata": {
        "id": "VkIdylGTmgaE"
      },
      "execution_count": 41,
      "outputs": []
    },
    {
      "cell_type": "code",
      "source": [
        "remove_vovel(\"Hariom Kumar\")"
      ],
      "metadata": {
        "colab": {
          "base_uri": "https://localhost:8080/",
          "height": 36
        },
        "id": "ehuHWwQBoWOA",
        "outputId": "53dfe733-5771-40bf-d4ae-50245270b2a2"
      },
      "execution_count": 42,
      "outputs": [
        {
          "output_type": "execute_result",
          "data": {
            "text/plain": [
              "'H Ku'"
            ],
            "application/vnd.google.colaboratory.intrinsic+json": {
              "type": "string"
            }
          },
          "metadata": {},
          "execution_count": 42
        }
      ]
    },
    {
      "cell_type": "markdown",
      "source": [
        "11) Imagine an accounting routine used in a book shop. It works on a list with sublists, which look like this:\n",
        "\n",
        "\n",
        "\n",
        "\n",
        "\n",
        "\n",
        "\n",
        "Write a Python program, which returns a list with 2-tuples. Each tuple consists of the order number and the\n",
        "product of the price per item and the quantity. The product should be increased by 10,- € if the value of the\n",
        "order is smaller than 100,00 €.\n",
        "\n",
        "Write a Python program using lambda and map."
      ],
      "metadata": {
        "id": "pJ1e__q7qMxl"
      }
    },
    {
      "cell_type": "code",
      "source": [
        "book_orders = [\n",
        "    [34587, \"Learning Python, Mark Lutz\", 4, 40.95],\n",
        "    [98762, \"Programming Python, Mark Lutz\", 5, 56.80],\n",
        "    [77226, \"Head First Python, Paul Barry\", 3, 32.95],\n",
        "    [88112, \"Einführung in Python3, Bernd Klein\", 3, 24.99]\n",
        "]\n",
        "\n",
        "# Use map with a lambda function to process each order\n",
        "processed_orders = list(map(lambda order: (order[0], (order[2] * order[3] + 10) if (order[2] * order[3]) < 100 else (order[2] * order[3])), book_orders))\n",
        "\n",
        "print(processed_orders)"
      ],
      "metadata": {
        "colab": {
          "base_uri": "https://localhost:8080/"
        },
        "id": "IklUqkgvq5D7",
        "outputId": "95bc2844-8773-4c32-c5e2-85fb3b5a915c"
      },
      "execution_count": 43,
      "outputs": [
        {
          "output_type": "stream",
          "name": "stdout",
          "text": [
            "[(34587, 163.8), (98762, 284.0), (77226, 108.85000000000001), (88112, 84.97)]\n"
          ]
        }
      ]
    },
    {
      "cell_type": "code",
      "source": [],
      "metadata": {
        "id": "cY3HNW8Qq6rK"
      },
      "execution_count": null,
      "outputs": []
    }
  ]
}