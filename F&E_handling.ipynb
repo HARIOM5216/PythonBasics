{
  "nbformat": 4,
  "nbformat_minor": 0,
  "metadata": {
    "colab": {
      "provenance": []
    },
    "kernelspec": {
      "name": "python3",
      "display_name": "Python 3"
    },
    "language_info": {
      "name": "python"
    }
  },
  "cells": [
    {
      "cell_type": "markdown",
      "source": [
        "#Files, exceptional handling, logging and memory management Questions"
      ],
      "metadata": {
        "id": "X56xJD0Xtsvf"
      }
    },
    {
      "cell_type": "markdown",
      "source": [
        "1. What is the difference between interpreted and compiled languages?\n",
        "  - Interpreted languages are executed directly by an interpreter program, which reads and runs the code line-by-line at runtime. Examples include Python and JavaScript.\n",
        "  - Compiled languages are transformed into machine code by a compiler before they are run, creating an executable file. Examples include C and C++.\n",
        "\n",
        "2. What is exception handling in Python?\n",
        "  - Exception handling is a way to manage errors or unexpected situations during program execution. It uses try, except, else, and finally blocks to catch and handle exceptions, preventing the program from crashing and allowing it to respond appropriately to errors.\n",
        "\n",
        "3. What is the purpose of the finally block in exception handling?\n",
        "  - The purpose of the 'finally' block  is to execute specific code regardless of whether an exception was raised or not. It is typically used for cleanup actions, such as closing files or releasing resources, ensuring these tasks are performed no matter what happens in the 'try' and 'except' blocks.\n",
        "\n",
        "4. What is logging in Python?\n",
        "  - Logging in Python is a way to track events that happen when your software runs. It helps you debug and monitor your application.\n",
        "\n",
        "5. What is the significance of the __del__ method in Python?\n",
        "  - The __del__ method in Python is a special method called a destructor. It's automatically called when an object is about to be destroyed. Its main significance is to allow you to release resources held by the object, like closing files or network connections, before the object is removed from memory.\n",
        "\n",
        "6. What is the difference between import and from ... import in Python?\n",
        "  - import imports the entire module, and we access its contents using the module name (e.g., math.sqrt()).\n",
        "  - from...import imports specific parts of a module directly into our namespace (e.g., from math import sqrt), so you can use them without the module prefix.\n",
        "\n",
        "7.  How can you handle multiple exceptions in Python?\n",
        "  - we can handle multiple exceptions in Python using a single try...except block by specifying different except clauses for each exception type we want to catch.\n",
        "\n",
        "8. What is the purpose of the with statement when handling files in Python?\n",
        "  - The with statement ensures that resources, like files, are properly managed. It automatically takes care of opening and closing the file, even if errors occur, making our code cleaner and preventing resource leaks.\n",
        "\n",
        "9. What is the difference between multithreading and multiprocessing?\n",
        "  - Multithreading uses threads within a single process, sharing the same memory space, which is suitable for I/O-bound tasks.\n",
        "  - Multiprocessing uses multiple processes, each with its own memory space, allowing for true parallelism and is better for CPU-bound tasks.\n",
        "\n",
        "10. What are the advantages of using logging in a program?\n",
        "  - Logging in a program helps us track events, debug issues, and monitor your application's behavior. It provides valuable information for troubleshooting, performance analysis, and auditing, making it easier to understand what's happening in our code.\n",
        "\n",
        "11. What is memory management in Python?\n",
        "  - Memory management in Python is automatic, handled by the Python interpreter through a process called garbage collection. It automatically allocates and deallocates memory as needed, freeing developers from manual memory management.\n",
        "\n",
        "12. What are the basic steps involved in exception handling in Python?\n",
        "  - The basic steps in exception handling in Python involve using a try block to enclose the code that might raise an exception, followed by one or more except blocks to catch and handle specific exceptions, and an optional finally block to execute code regardless of whether an exception occurred.\n",
        "\n",
        "13. Why is memory management important in Python?\n",
        "  - Memory management is important because it prevents memory leaks, optimizes resource usage, and ensures the efficient operation of your programs.\n",
        "\n",
        "14. What is the role of try and except in exception handling?\n",
        "  - The try block in exception handling encloses the code that might raise an exception, while the except block catches and handles specific exceptions, allowing you to gracefully manage errors and prevent program crashes.\n",
        "\n",
        "15. How does Python's garbage collection system work?\n",
        "  - Python's garbage collection system primarily uses reference counting to track and deallocate memory. When an object's reference count drops to zero, it's immediately freed.\n",
        "\n",
        "16.  What is the purpose of the else block in exception handling?\n",
        "  - The else block in exception handling executes if no exceptions occur within the try block, providing a way to specify code that should run only when the try block completes successfully.\n",
        "\n",
        "17. What are the common logging levels in Python?\n",
        "  - The common logging levels in Python, from least to most severe, are DEBUG, INFO, WARNING, ERROR, and CRITICAL.\n",
        "\n",
        "18.  What is the difference between os.fork() and multiprocessing in Python?\n",
        "  - os.fork() creates a new process by duplicating the current one, which is available on Unix-like systems.\n",
        "  - multiprocessing is a higher-level module that provides a more portable and flexible way to create and manage processes, including support for inter-process communication and cross-platform compatibility.\n",
        "\n",
        "19. What is the importance of closing a file in Python?\n",
        "  - Closing a file in Python is important to ensure that all buffered data is written to the disk, release system resources, and prevent data corruption or loss.\n",
        "\n",
        "20. What is the difference between file.read() and file.readline() in Python?\n",
        "  - file.read() reads the entire file into a single string, while file.readline() reads a single line from the file, up to and including the newline character.\n",
        "\n",
        "21. What is the logging module in Python used for?\n",
        "  - The logging module is used for writing log messages to files or other streams, which helps in debugging, monitoring, and understanding the behavior of an application.\n",
        "\n",
        "22. What is the os module in Python used for in file handling?\n",
        "  - The os module is used for interacting with the operating system, including file handling tasks like creating, deleting, and renaming files and directories.\n",
        "\n",
        "23. What are the challenges associated with memory management in Python?\n",
        "  - Some challenges associated with memory management in Python include dealing with circular references, managing large objects, and understanding the behavior of the garbage collector.\n",
        "\n",
        "24.  How do you raise an exception manually in Python?\n",
        "  - We can raise an exception manually in Python using the raise keyword followed by the exception type and an optional message.\n",
        "\n",
        "25. Why is it important to use multithreading in certain applications?\n",
        "  - Multithreading is important in certain applications to improve responsiveness, especially in applications that need to perform multiple tasks concurrently or handle I/O operations without blocking the main thread."
      ],
      "metadata": {
        "id": "9Uvbd-eit3Pe"
      }
    },
    {
      "cell_type": "markdown",
      "source": [
        "#Practical Questions"
      ],
      "metadata": {
        "id": "xV4VwnL-ah4a"
      }
    },
    {
      "cell_type": "markdown",
      "source": [
        "1. How can you open a file for writing in Python and write a string to it?"
      ],
      "metadata": {
        "id": "twm51JzYKkAy"
      }
    },
    {
      "cell_type": "code",
      "execution_count": null,
      "metadata": {
        "id": "Mp3DUurFthKY"
      },
      "outputs": [],
      "source": [
        "file = open(\"file.txt\", \"w\")"
      ]
    },
    {
      "cell_type": "code",
      "source": [
        "file.write(\"hello this is my first line in the text file\")\n",
        "file.close()"
      ],
      "metadata": {
        "id": "CSkQJV-YLbU4"
      },
      "execution_count": null,
      "outputs": []
    },
    {
      "cell_type": "markdown",
      "source": [
        "2. Write a Python program to read the contents of a file and print each line."
      ],
      "metadata": {
        "id": "NAh4g51BagC7"
      }
    },
    {
      "cell_type": "code",
      "source": [
        "for i in open(\"file.txt\", \"r\"):\n",
        "    print(i)\n"
      ],
      "metadata": {
        "colab": {
          "base_uri": "https://localhost:8080/"
        },
        "id": "HQ12XW_jMO3U",
        "outputId": "479af080-0e99-4b59-b079-9d30aa90143b"
      },
      "execution_count": null,
      "outputs": [
        {
          "output_type": "stream",
          "name": "stdout",
          "text": [
            "hello this is my first line in the text file\n"
          ]
        }
      ]
    },
    {
      "cell_type": "markdown",
      "source": [
        " 3. How would you handle a case where the file doesn't exist while trying to open it for reading?"
      ],
      "metadata": {
        "id": "pncbB4sTNSxZ"
      }
    },
    {
      "cell_type": "code",
      "source": [
        "try:\n",
        "    with open('filename.txt', 'r') as file:\n",
        "        data = file.read()\n",
        "        # process the data\n",
        "except FileNotFoundError:\n",
        "    print(\"The file does not exist.\")"
      ],
      "metadata": {
        "colab": {
          "base_uri": "https://localhost:8080/"
        },
        "id": "5eYXpvXYMVNT",
        "outputId": "3aa0e0a4-30ff-4426-d7a8-4b5680b4397a"
      },
      "execution_count": null,
      "outputs": [
        {
          "output_type": "stream",
          "name": "stdout",
          "text": [
            "The file does not exist.\n"
          ]
        }
      ]
    },
    {
      "cell_type": "markdown",
      "source": [
        "4. Write a Python script that reads from one file and writes its content to another file."
      ],
      "metadata": {
        "id": "O1rqf61AOhL0"
      }
    },
    {
      "cell_type": "code",
      "source": [
        "for i in open(\"file.txt\", \"r\"):\n",
        "    file1 = open(\"file1.txt\", \"w\")\n",
        "    file1.write(i)\n",
        "    file1.close()"
      ],
      "metadata": {
        "id": "jClTpp30MZNO"
      },
      "execution_count": null,
      "outputs": []
    },
    {
      "cell_type": "markdown",
      "source": [
        "5.  How would you catch and handle division by zero error in Python?"
      ],
      "metadata": {
        "id": "wVUJpYZGO727"
      }
    },
    {
      "cell_type": "code",
      "source": [
        "def divide_numbers(a, b):\n",
        "  print(a,b)\n",
        "  if b==0:\n",
        "    print(\"division by zero error\")\n",
        "    return\n",
        "  return a/b"
      ],
      "metadata": {
        "id": "gvOO4fMeOzDe"
      },
      "execution_count": null,
      "outputs": []
    },
    {
      "cell_type": "code",
      "source": [
        "for i in range(-5,5):\n",
        "  divide_numbers(i,i+1)"
      ],
      "metadata": {
        "colab": {
          "base_uri": "https://localhost:8080/"
        },
        "id": "iuW-opzNP_B4",
        "outputId": "fc743da3-c410-4a51-dc60-36023c10d192"
      },
      "execution_count": null,
      "outputs": [
        {
          "output_type": "stream",
          "name": "stdout",
          "text": [
            "-5 -4\n",
            "-4 -3\n",
            "-3 -2\n",
            "-2 -1\n",
            "-1 0\n",
            "division by zero error\n",
            "0 1\n",
            "1 2\n",
            "2 3\n",
            "3 4\n",
            "4 5\n"
          ]
        }
      ]
    },
    {
      "cell_type": "markdown",
      "source": [
        "6. Write a Python program that logs an error message to a log file when a division by zero exception occurs."
      ],
      "metadata": {
        "id": "SWMqF-V0Qnec"
      }
    },
    {
      "cell_type": "code",
      "source": [
        "import logging\n",
        "logging.basicConfig(filename='error.log', level=logging.ERROR,\n",
        "                    format='%(asctime)s %(levelname)s %(message)s')\n",
        "\n",
        "try:\n",
        "    x = 10\n",
        "    y = 0\n",
        "    result = x / y\n",
        "except ZeroDivisionError as e:\n",
        "    logging.error(\"Division by zero occurred: %s\", e)\n",
        "\n",
        "print(\"Program finished.\")"
      ],
      "metadata": {
        "colab": {
          "base_uri": "https://localhost:8080/"
        },
        "id": "-R91aVFBQNUq",
        "outputId": "f931bf50-78af-4200-dca8-ffc32df9ccba"
      },
      "execution_count": null,
      "outputs": [
        {
          "output_type": "stream",
          "name": "stderr",
          "text": [
            "ERROR:root:Division by zero occurred: division by zero\n"
          ]
        },
        {
          "output_type": "stream",
          "name": "stdout",
          "text": [
            "Program finished.\n"
          ]
        }
      ]
    },
    {
      "cell_type": "markdown",
      "source": [
        "7. How do you log information at different levels (INFO, ERROR, WARNING) in Python using the logging module?"
      ],
      "metadata": {
        "id": "es_ZjhgOVth2"
      }
    },
    {
      "cell_type": "code",
      "source": [
        "import logging\n",
        "logging.basicConfig(filename='error.log', level=logging.DEBUG,format='%(asctime)s %(levelname)s %(message)s')\n",
        "logging.info(\"This is an info message\")\n",
        "logging.error(\"This is an error message\")\n",
        "logging.warning(\"This is a warning message\")\n",
        "logging.shutdown()"
      ],
      "metadata": {
        "colab": {
          "base_uri": "https://localhost:8080/"
        },
        "id": "0XgUIO4RVzao",
        "outputId": "587033c7-2393-4edf-db2d-153eba379fdd"
      },
      "execution_count": 48,
      "outputs": [
        {
          "output_type": "stream",
          "name": "stderr",
          "text": [
            "ERROR:root:This is an error message\n",
            "WARNING:root:This is a warning message\n"
          ]
        }
      ]
    },
    {
      "cell_type": "markdown",
      "source": [
        "8. Write a program to handle a file opening error using exception handling."
      ],
      "metadata": {
        "id": "TzcRH8JSVacu"
      }
    },
    {
      "cell_type": "code",
      "source": [
        "try:\n",
        "    with open('file3.txt', 'r') as file:\n",
        "        content = file.read()\n",
        "        print(content)\n",
        "except FileNotFoundError:\n",
        "    print(\" The file was not found.\")\n",
        "except IOError:\n",
        "    print(\"An I/O error occurred while trying to open the file.\")"
      ],
      "metadata": {
        "colab": {
          "base_uri": "https://localhost:8080/"
        },
        "id": "XHXUpk1lXyJf",
        "outputId": "eeb14c28-0eee-491f-fa9f-ffd56fb5879b"
      },
      "execution_count": 59,
      "outputs": [
        {
          "output_type": "stream",
          "name": "stdout",
          "text": [
            " The file was not found.\n"
          ]
        }
      ]
    },
    {
      "cell_type": "markdown",
      "source": [
        "9. How can you read a file line by line and store its content in a list in Python?"
      ],
      "metadata": {
        "id": "A_wV5asraIrd"
      }
    },
    {
      "cell_type": "code",
      "source": [
        "data = [[\"name\",\"course\",\"fee\"],\n",
        "        [\"hariom\",\"ds\",\"20000\"],\n",
        "        [\"rahul\",\"da\",\"30000\"]]"
      ],
      "metadata": {
        "id": "0U_HyehhcDzj"
      },
      "execution_count": 63,
      "outputs": []
    },
    {
      "cell_type": "code",
      "source": [
        "for i in data:\n",
        "  print(i)"
      ],
      "metadata": {
        "colab": {
          "base_uri": "https://localhost:8080/"
        },
        "id": "1I-wY-LKdNr8",
        "outputId": "82b208e4-7f8b-4ffb-de17-7b8b7f9db447"
      },
      "execution_count": 64,
      "outputs": [
        {
          "output_type": "stream",
          "name": "stdout",
          "text": [
            "['name', 'course', 'fee']\n",
            "['hariom', 'ds', '20000']\n",
            "['rahul', 'da', '30000']\n"
          ]
        }
      ]
    },
    {
      "cell_type": "code",
      "source": [
        "#make csv file\n",
        "import csv\n",
        "with open('data.csv', 'w', newline='') as file:\n",
        "    writer = csv.writer(file)\n",
        "    writer.writerows(data)\n",
        "\n",
        "    for i in open(\"data.csv\", \"r\"):\n",
        "        print(i)"
      ],
      "metadata": {
        "id": "n8QpDkCEeOL8"
      },
      "execution_count": 66,
      "outputs": []
    },
    {
      "cell_type": "code",
      "source": [
        "with open('data.csv', 'r') as file:\n",
        "    reader = csv.reader(file)\n",
        "    for row in reader:\n",
        "        print(row)"
      ],
      "metadata": {
        "colab": {
          "base_uri": "https://localhost:8080/"
        },
        "id": "1RLIXxuYepxp",
        "outputId": "fd498131-9c06-4997-c914-f78ccb22f3d8"
      },
      "execution_count": 67,
      "outputs": [
        {
          "output_type": "stream",
          "name": "stdout",
          "text": [
            "['name', 'course', 'fee']\n",
            "['hariom', 'ds', '20000']\n",
            "['rahul', 'da', '30000']\n"
          ]
        }
      ]
    },
    {
      "cell_type": "markdown",
      "source": [
        "10. How can you append data to an existing file in Python?"
      ],
      "metadata": {
        "id": "k5QDzZCNden6"
      }
    },
    {
      "cell_type": "code",
      "source": [
        "with open('file.txt', 'a') as file:    #file.txt already exist\n",
        "    file.write(\"This is the new line of text.\")"
      ],
      "metadata": {
        "id": "5DCBOcwPdTxl"
      },
      "execution_count": 71,
      "outputs": []
    },
    {
      "cell_type": "markdown",
      "source": [
        "11. Write a Python program that uses a try-except block to handle an error when attempting to access a\n",
        "dictionary key that doesn't exist."
      ],
      "metadata": {
        "id": "S6LDwjHUgdCY"
      }
    },
    {
      "cell_type": "code",
      "source": [
        "\n",
        "data = {\n",
        "    'name': 'Hariom',\n",
        "    'age': 22\n",
        "}\n",
        "\n",
        "try:\n",
        "\n",
        "    city = data['city']\n",
        "    print(f\"City: {city}\")\n",
        "except KeyError as e:\n",
        "    print(f\"KeyError: The key '{e.args[0]}' was not found in the dictionary.\")\n"
      ],
      "metadata": {
        "colab": {
          "base_uri": "https://localhost:8080/"
        },
        "id": "G1QfT-yFgCBr",
        "outputId": "963afb95-1ceb-45b3-d9c5-a0ca1f172385"
      },
      "execution_count": 72,
      "outputs": [
        {
          "output_type": "stream",
          "name": "stdout",
          "text": [
            "KeyError: The key 'city' was not found in the dictionary.\n"
          ]
        }
      ]
    },
    {
      "cell_type": "markdown",
      "source": [
        "12. Write a program that demonstrates using multiple except blocks to handle different types of exceptions.\n"
      ],
      "metadata": {
        "id": "Mg6EHgN-hjFE"
      }
    },
    {
      "cell_type": "code",
      "source": [
        "try:\n",
        "  10/0\n",
        "except ZeroDivisionError as e:\n",
        "  print(\"the division is not possible due to ERROR:\",e)\n",
        "except Exception as e:\n",
        "  print(\"this is value ERROR:\",e)"
      ],
      "metadata": {
        "colab": {
          "base_uri": "https://localhost:8080/"
        },
        "id": "9WkvnHvYiSOP",
        "outputId": "48630d42-f2ed-4e66-cb25-52fe53ee8472"
      },
      "execution_count": 83,
      "outputs": [
        {
          "output_type": "stream",
          "name": "stdout",
          "text": [
            "the division is not possible due to ERROR: division by zero\n"
          ]
        }
      ]
    },
    {
      "cell_type": "markdown",
      "source": [
        "13. How would you check if a file exists before attempting to read it in Python?"
      ],
      "metadata": {
        "id": "4OBOkLvwj4oN"
      }
    },
    {
      "cell_type": "code",
      "source": [
        "import os\n",
        "\n",
        "filename = 'file.txt'\n",
        "\n",
        "if os.path.exists(filename):\n",
        "    with open(filename, 'r') as file:\n",
        "        content = file.read()\n",
        "        print(content)\n",
        "else:\n",
        "    print(f\"The file '{filename}' does not exist.\")\n"
      ],
      "metadata": {
        "colab": {
          "base_uri": "https://localhost:8080/"
        },
        "id": "ZeZr9GcVjYlw",
        "outputId": "12fe7786-8d08-4ba8-e140-4a12a88da93b"
      },
      "execution_count": 84,
      "outputs": [
        {
          "output_type": "stream",
          "name": "stdout",
          "text": [
            "hello this is my first line in the text fileThis is the new line of text.\n",
            "This is the new line of text.\n"
          ]
        }
      ]
    },
    {
      "cell_type": "markdown",
      "source": [
        "14.  Write a program that uses the logging module to log both informational and error messages."
      ],
      "metadata": {
        "id": "0_jPxHSwkqYv"
      }
    },
    {
      "cell_type": "code",
      "source": [
        "import logging\n",
        "logging.basicConfig(filename='abcd.log', level=logging.DEBUG,format='%(asctime)s %(levelname)s %(message)s')\n",
        "logging.info('The program has started.')\n",
        "try:\n",
        "    result = 10 / 2\n",
        "    logging.info(f'Result of division: {result}')\n",
        "\n",
        "    error_result = 10 / 0\n",
        "except ZeroDivisionError as e:\n",
        "    logging.error(f'An error occurred: {e}')\n",
        "logging.info('The program has finished.')"
      ],
      "metadata": {
        "colab": {
          "base_uri": "https://localhost:8080/"
        },
        "id": "NCeIZBj1klcg",
        "outputId": "85e93e3e-3c21-4a3d-b497-653f9e9865c5"
      },
      "execution_count": 88,
      "outputs": [
        {
          "output_type": "stream",
          "name": "stderr",
          "text": [
            "ERROR:root:An error occurred: division by zero\n"
          ]
        }
      ]
    },
    {
      "cell_type": "markdown",
      "source": [
        "15. Write a Python program that prints the content of a file and handles the case when the file is empty."
      ],
      "metadata": {
        "id": "yWObrOWQmZ_M"
      }
    },
    {
      "cell_type": "code",
      "source": [
        "filename = 'file.txt'\n",
        "\n",
        "try:\n",
        "    with open(filename, 'r') as file:\n",
        "        content = file.read()\n",
        "        if content:\n",
        "            print(content)\n",
        "        else:\n",
        "            print(\"The file is empty.\")\n",
        "except FileNotFoundError:\n",
        "    print(f\"The file '{filename}' does not exist.\")"
      ],
      "metadata": {
        "colab": {
          "base_uri": "https://localhost:8080/"
        },
        "id": "FpJ0apypn5af",
        "outputId": "8322fb4a-e323-49cc-8dd2-17c73a2bc3d8"
      },
      "execution_count": 93,
      "outputs": [
        {
          "output_type": "stream",
          "name": "stdout",
          "text": [
            "hello this is my first line in the text fileThis is the new line of text.\n",
            "This is the new line of text.\n"
          ]
        }
      ]
    },
    {
      "cell_type": "markdown",
      "source": [
        "16. Demonstrate how to use memory profiling to check the memory usage of a small program.\n"
      ],
      "metadata": {
        "id": "e3p8HMyxo0a1"
      }
    },
    {
      "cell_type": "code",
      "source": [
        "file = open(\"file4.txt\", \"w\")\n",
        "file.write(\"hello this is my first line in the text file\\n\")\n",
        "file.write(\"this is my second line in the text file\\n\")\n",
        "file.write(\"this is my third line in the text file\\n\")\n",
        "file.write(\"this is my fourth line in the text file\\n\")\n",
        "file.close()"
      ],
      "metadata": {
        "id": "AHXQuMhwotR1"
      },
      "execution_count": 95,
      "outputs": []
    },
    {
      "cell_type": "code",
      "source": [
        "os.path.getsize(\"file4.txt\") #size"
      ],
      "metadata": {
        "colab": {
          "base_uri": "https://localhost:8080/"
        },
        "id": "ta4XBWlbrasO",
        "outputId": "a082e786-b431-4555-a1bd-e45c08eeb806"
      },
      "execution_count": 96,
      "outputs": [
        {
          "output_type": "execute_result",
          "data": {
            "text/plain": [
              "164"
            ]
          },
          "metadata": {},
          "execution_count": 96
        }
      ]
    },
    {
      "cell_type": "markdown",
      "source": [
        "17. Write a Python program to create and write a list of numbers to a file, one number per line."
      ],
      "metadata": {
        "id": "KGnq1Q6qsDNF"
      }
    },
    {
      "cell_type": "code",
      "source": [
        "numbers = [10, 20, 30, 40, 50]\n",
        "with open('numbers.txt', 'w') as file:\n",
        "    for number in numbers:\n",
        "        file.write(f\"{number}\\n\")\n",
        "\n",
        "print(\"Numbers written to 'numbers.txt' successfully.\")\n"
      ],
      "metadata": {
        "colab": {
          "base_uri": "https://localhost:8080/"
        },
        "id": "QuEmI6L2snTb",
        "outputId": "ea652e1b-5975-4c2e-bae2-904b386bb346"
      },
      "execution_count": 102,
      "outputs": [
        {
          "output_type": "stream",
          "name": "stdout",
          "text": [
            "Numbers written to 'numbers.txt' successfully.\n"
          ]
        }
      ]
    },
    {
      "cell_type": "markdown",
      "source": [
        "18. How would you implement a basic logging setup that logs to a file with rotation after 1MB?"
      ],
      "metadata": {
        "id": "7ZeAcnEVtYq8"
      }
    },
    {
      "cell_type": "code",
      "source": [
        "import logging\n",
        "from logging.handlers import RotatingFileHandler\n",
        "\n",
        "logger = logging.getLogger(\"my_logger\")\n",
        "logger.setLevel(logging.DEBUG)\n",
        "\n",
        "\n",
        "handler = RotatingFileHandler(\n",
        "    \"app.log\",\n",
        "    maxBytes=1 * 1024 * 1024,\n",
        "    backupCount=5\n",
        ")\n",
        "\n",
        "formatter = logging.Formatter('%(asctime)s %(levelname)s %(message)s')\n",
        "handler.setFormatter(formatter)\n",
        "\n",
        "logger.addHandler(handler)\n",
        "\n",
        "logger.debug(\"Debug message\")\n",
        "logger.info(\"Info message\")\n",
        "logger.warning(\"Warning message\")\n",
        "logger.error(\"Error message\")\n",
        "logger.critical(\"Critical message\")\n"
      ],
      "metadata": {
        "colab": {
          "base_uri": "https://localhost:8080/"
        },
        "id": "sMwyGenBtQ0K",
        "outputId": "aabdc2a7-2b5d-4e33-c616-da2c06b14fc4"
      },
      "execution_count": 104,
      "outputs": [
        {
          "output_type": "stream",
          "name": "stderr",
          "text": [
            "DEBUG:my_logger:Debug message\n",
            "INFO:my_logger:Info message\n",
            "WARNING:my_logger:Warning message\n",
            "ERROR:my_logger:Error message\n",
            "CRITICAL:my_logger:Critical message\n"
          ]
        }
      ]
    },
    {
      "cell_type": "markdown",
      "source": [
        "19.  Write a program that handles both IndexError and KeyError using a try-except block."
      ],
      "metadata": {
        "id": "_Dfmljnxvwox"
      }
    },
    {
      "cell_type": "code",
      "source": [
        "my_list = [1, 2, 3]\n",
        "my_dict = {'name': \"hariom\", 'age': 20}\n",
        "\n",
        "try:\n",
        "    print(my_list[5])\n",
        "    print(my_dict['birth'])\n",
        "except IndexError:\n",
        "    print(\"invalid list index.\")\n",
        "except KeyError:\n",
        "    print(\"key not found in dictionary.\")"
      ],
      "metadata": {
        "colab": {
          "base_uri": "https://localhost:8080/"
        },
        "id": "LLCJ55NJvQt7",
        "outputId": "5002b273-ebac-4c46-d322-c6e321c3786c"
      },
      "execution_count": 110,
      "outputs": [
        {
          "output_type": "stream",
          "name": "stdout",
          "text": [
            "invalid list index.\n"
          ]
        }
      ]
    },
    {
      "cell_type": "markdown",
      "source": [
        "20.  How would you open a file and read its contents using a context manager in Python?"
      ],
      "metadata": {
        "id": "lvhK1885xWaO"
      }
    },
    {
      "cell_type": "code",
      "source": [
        "with open('file4.txt', 'r') as file:\n",
        "    contents = file.read()\n",
        "    print(contents)"
      ],
      "metadata": {
        "colab": {
          "base_uri": "https://localhost:8080/"
        },
        "id": "fEYglKGNwd8h",
        "outputId": "af8e9dee-9120-41ca-ebd3-17453584ebf2"
      },
      "execution_count": 111,
      "outputs": [
        {
          "output_type": "stream",
          "name": "stdout",
          "text": [
            "hello this is my first line in the text file\n",
            "this is my second line in the text file\n",
            "this is my third line in the text file\n",
            "this is my fourth line in the text file\n",
            "\n"
          ]
        }
      ]
    },
    {
      "cell_type": "markdown",
      "source": [
        "21.  Write a Python program that reads a file and prints the number of occurrences of a specific word."
      ],
      "metadata": {
        "id": "7-Y13BvJxrRu"
      }
    },
    {
      "cell_type": "code",
      "source": [
        "filename = 'file4.txt'\n",
        "word = 'my' #specific word\n",
        "\n",
        "count = 0\n",
        "\n",
        "with open(filename, 'r') as file:\n",
        "    for line in file:\n",
        "        words = line.split()\n",
        "        count += words.count(word)\n",
        "\n",
        "print(f\"The word '{word}' occurs {count} times in the file.\")"
      ],
      "metadata": {
        "colab": {
          "base_uri": "https://localhost:8080/"
        },
        "id": "s7nfqh-ozXpG",
        "outputId": "fa2edb30-bb46-413b-bdfb-6f83d402e4fc"
      },
      "execution_count": 115,
      "outputs": [
        {
          "output_type": "stream",
          "name": "stdout",
          "text": [
            "The word 'my' occurs 4 times in the file.\n"
          ]
        }
      ]
    },
    {
      "cell_type": "markdown",
      "source": [
        "22. How can you check if a file is empty before attempting to read its contents?"
      ],
      "metadata": {
        "id": "s9I0pwpF0GFB"
      }
    },
    {
      "cell_type": "code",
      "source": [
        "file = open(\"file5.txt\", \"w\")\n",
        "file.write(\"\")\n",
        "file.close()\n"
      ],
      "metadata": {
        "id": "LFWatcDI1fQF"
      },
      "execution_count": 122,
      "outputs": []
    },
    {
      "cell_type": "code",
      "source": [
        "import os\n",
        "\n",
        "file_path = 'file5.txt'\n",
        "\n",
        "if os.path.getsize(file_path) == 0:\n",
        "    print(\"File is empty\")\n",
        "else:\n",
        "    with open(file_path, 'r') as f:\n",
        "        content = f.read()"
      ],
      "metadata": {
        "colab": {
          "base_uri": "https://localhost:8080/"
        },
        "id": "SdM0l7Kh0th0",
        "outputId": "35ee1ee0-c865-4ee0-e37c-c87a13cc511e"
      },
      "execution_count": 123,
      "outputs": [
        {
          "output_type": "stream",
          "name": "stdout",
          "text": [
            "File is empty\n"
          ]
        }
      ]
    },
    {
      "cell_type": "markdown",
      "source": [
        "23. Write a Python program that writes to a log file when an error occurs during file handling."
      ],
      "metadata": {
        "id": "JomUKq0a152I"
      }
    },
    {
      "cell_type": "code",
      "source": [
        "import logging\n",
        "logging.basicConfig(filename='error_log.txt', level=logging.ERROR,format='%(asctime)s %(levelname)s %(message)s')\n",
        "\n",
        "try:\n",
        "    with open('file6.txt', 'r') as file:\n",
        "        content = file.read()\n",
        "except Exception as e:\n",
        "    logging.error(f\"An error occurred during file handling: {e}\")"
      ],
      "metadata": {
        "colab": {
          "base_uri": "https://localhost:8080/"
        },
        "id": "85pZ1j0k1Wua",
        "outputId": "302e6965-4ca0-428c-aa76-e812178b65ff"
      },
      "execution_count": 124,
      "outputs": [
        {
          "output_type": "stream",
          "name": "stderr",
          "text": [
            "ERROR:root:An error occurred during file handling: [Errno 2] No such file or directory: 'file6.txt'\n"
          ]
        }
      ]
    },
    {
      "cell_type": "code",
      "source": [],
      "metadata": {
        "id": "fcQNQn8I3Dyl"
      },
      "execution_count": null,
      "outputs": []
    }
  ]
}