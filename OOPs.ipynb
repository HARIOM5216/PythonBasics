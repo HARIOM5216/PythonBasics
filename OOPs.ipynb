{
  "nbformat": 4,
  "nbformat_minor": 0,
  "metadata": {
    "colab": {
      "provenance": []
    },
    "kernelspec": {
      "name": "python3",
      "display_name": "Python 3"
    },
    "language_info": {
      "name": "python"
    }
  },
  "cells": [
    {
      "cell_type": "markdown",
      "source": [
        "#Python OOPs Questions\n"
      ],
      "metadata": {
        "id": "O0l6SlPWRlvO"
      }
    },
    {
      "cell_type": "markdown",
      "source": [
        "1. What is Object-Oriented Programming (OOP)?\n",
        "  - Object-oriented programming is a programming paradigm based on the concept of \"objects,\" which can contain data in the form of fields (attributes) and code in the form of procedures (methods).\n",
        "\n",
        "2. What is a class in OOP?\n",
        "  - A class is a blueprint or a template for creating objects. It defines the properties (attributes) and behaviors (methods) that objects of that class will have.\n",
        "\n",
        "3. What is an object in OOP?\n",
        "  - An object is an instance of a class. It's a concrete realization of the blueprint defined by the class, with its own unique set of data (attributes) and the ability to perform actions (methods).\n",
        "\n",
        "4. What is the difference between abstraction and encapsulation?\n",
        "  - Abstraction simplifies by showing essential features and hiding complex details.\n",
        "  - Encapsulation bundles data and methods, controlling access to protect data integrity.\n",
        "\n",
        "5.  What are dunder methods in Python?\n",
        "  - Dunder methods, also known as magic methods, are special methods in Python that start and end with double underscores (e.g., __init__, __str__).\n",
        "  - They allow us to define how built-in operations work on your custom objects.\n",
        "  - For example, __init__ is used to initialize objects, and __str__ defines how an object is represented as a string.\n",
        "\n",
        "6. Explain the concept of inheritance in OOP.\n",
        "  - Inheritance is a fundamental concept in OOP where a class (subclass or derived class) can inherit properties and behaviors from another class (superclass or base class). This promotes code reuse and establishes an \"is-a\" relationship, meaning the subclass \"is a\" type of the superclass.\n",
        "  - Inheritance allows you to create a hierarchy of classes, where specialized classes inherit and extend the functionality of more general classes.\n",
        "\n",
        "7.  What is polymorphism in OOP?\n",
        "  - Polymorphism means \"many forms,\" is the ability of objects of different classes to respond to the same method call in their own way. It allows us to treat objects of different classes uniformly through a common interface, making our code more flexible and extensible.\n",
        "  \n",
        "8. How is encapsulation achieved in Python?\n",
        "  - Encapsulation is achieved by using access modifiers (public, protected, private) and naming conventions. Public members are accessible everywhere, protected members (single underscore) are for the class and subclasses, and private members (double underscore) are name-mangled for limited external access.\n",
        "\n",
        "9.  What is a constructor in Python?\n",
        "  - A constructor is a special method within a class, named __init__, that is automatically called when a new object (instance) of the class is created. It's used to initialize the object's attributes, set up its initial state, and perform any necessary setup tasks.\n",
        "\n",
        "10. What are class and static methods in Python?\n",
        "\n",
        "  -  Class methods are bound to the class, receiving the class itself as the first argument (cls), and can access/modify class-level attributes.\n",
        "\n",
        "  -  Static methods are bound to the class but don't receive self or cls. They are regular functions within a class, used for utility functions unrelated to class or instance data.\n",
        "\n",
        "11. What is method overloading in Python?\n",
        "  - Python doesn't support true method overloading but method in parent class and child class with same signature,the child class method will be executed.\n",
        "  \n",
        "12.  What is method overriding in OOP?\n",
        "  - Method overriding in Python occurs when a subclass provides a specific implementation for a method that is already defined in its superclass. The subclass's method \"overrides\" the superclass's method, and when the method is called on an object of the subclass, the subclass's version is executed.\n",
        "\n",
        "13.  What is a property decorator in Python?\n",
        "  - A property decorator is a built-in decorator (@property) that allows you to define methods that behave like attributes. It lets us control access to instance attributes, providing a way to add getter, setter, and deleter methods to manage attribute access and modification while keeping the code clean and readable.\n",
        "\n",
        "14. Why is polymorphism important in OOP?\n",
        "  - Polymorphism is important in OOP because it allows objects of different classes to be treated as objects of a common type. This promotes code reusability, flexibility, and extensibility.\n",
        "\n",
        "15.  What is an abstract class in Python?\n",
        "  - An abstract class is a class that cannot be instantiated directly. It serves as a blueprint for other classes and may contain abstract methods (methods without an implementation).\n",
        "\n",
        "16.  What are the advantages of OOP?\n",
        "  - OOP offers several advantages, including code reusability through inheritance, making it easier to build upon existing code. It enhances code organization and readability using classes and objects, improving maintainability. OOP also promotes data encapsulation, protecting data integrity, and polymorphism, enabling flexible and extensible designs.\n",
        "\n",
        "17.  What is the difference between a class variable and an instance variable?\n",
        "  - A class variable is shared among all instances of a class, defined outside of any method.\n",
        "  -  An instance variable is unique to each instance of a class, defined within the __init__ method or other instance methods.\n",
        "  - Instance variables hold data specific to each object, while class variables hold data shared by all objects of the class.\n",
        "\n",
        "18. What is multiple inheritance in Python?\n",
        "  - Multiple inheritance in Python allows a class to inherit from multiple parent classes. This means a subclass can inherit attributes and methods from several superclasses, combining their functionalities. However, it can lead to complexity, such as the \"diamond problem,\" where a class inherits from two classes that have a common ancestor.\n",
        "\n",
        "19. Explain the purpose of ''__str__' and '__repr__'' methods in Python?\n",
        "  - The __str__ method in Python provides a human-readable string representation of an object, used for user-friendly output.\n",
        "  - The __repr__ method returns an unambiguous, developer-friendly string representation, often used for debugging and representing the object's creation.\n",
        "  -  __repr__ aims for clarity, while __str__ prioritizes readability.\n",
        "20. What is the significance of the 'super()'function in Python?\n",
        "  - The super() function in Python is used to call methods from a parent or superclass. It's essential for inheritance, allowing a subclass to access and extend the functionality of its superclass methods. This ensures proper initialization and avoids code duplication, enabling a more organized and maintainable code structure.\n",
        "\n",
        "21. What is the significance of the __del__method in Python?\n",
        "  - The __del__ method in Python is a special method, also known as a destructor. It's automatically called when an object is about to be destroyed or garbage collected. Its primary purpose is to release resources held by the object, such as closing files or releasing network connections, ensuring clean-up before the object is removed from memory.\n",
        "\n",
        "22.  What is the difference between @staticmethod and @classmethod in Python?\n",
        "  - @staticmethod and @classmethod are decorators in Python that modify how methods behave within a class.\n",
        "  -  @staticmethod makes a method independent of the class and its instances, behaving like a regular function.\n",
        "  - @classmethod passes the class itself as the first argument, allowing the method to access or modify class-level state.\n",
        "\n",
        "23. How does polymorphism work in Python with inheritance?\n",
        "  - Polymorphism  with inheritance, allows objects of different classes to be treated as objects of a common type. This is achieved through method overriding, where a subclass provides its implementation of a method already defined in its superclass.\n",
        "  - When a method is called on an object, Python determines the correct implementation at runtime, based on the object's actual class.\n",
        "\n",
        "24.  What is method chaining in Python OOP?\n",
        "  - Method chaining in Python OOP is a technique where multiple methods are called on the same object in a single line, with each method call returning the object itself. This is achieved by having each method return self, allowing us to chain method calls together for a more concise and readable code.\n",
        "\n",
        "25. What is the purpose of the __call__ method in Python?\n",
        "  - The __call__ method in Python allows instances of a class to be called like functions. When we define this method in a class, we can then treat instances of that class as callable objects, just like functions. This enables a more flexible and intuitive way to use objects, especially in scenarios where we want to encapsulate behavior within an object and execute it with arguments."
      ],
      "metadata": {
        "id": "QR1A8ZfbR5Yz"
      }
    },
    {
      "cell_type": "markdown",
      "source": [
        "#Practical Questions"
      ],
      "metadata": {
        "id": "aISQQ6DzSAG8"
      }
    },
    {
      "cell_type": "markdown",
      "source": [
        "1. Create a parent class Animal with a method speak() that prints a generic message. Create a child class Dog\n",
        "that overrides the speak() method to print \"Bark!\"."
      ],
      "metadata": {
        "id": "fc6EsZiYSHFO"
      }
    },
    {
      "cell_type": "code",
      "source": [
        "class Animal:\n",
        "    def speak(self):\n",
        "        print(\"Generic animal sound\")\n",
        "\n",
        "class Dog(Animal):\n",
        "    def speak(self):\n",
        "        print(\"Bark!\")"
      ],
      "metadata": {
        "id": "S8uMEZOdSDi_"
      },
      "execution_count": 3,
      "outputs": []
    },
    {
      "cell_type": "code",
      "execution_count": 4,
      "metadata": {
        "id": "Pf3X5g1tRhHs",
        "colab": {
          "base_uri": "https://localhost:8080/"
        },
        "outputId": "59605c7a-7bb1-4c14-8e0d-f6b25a43ad27"
      },
      "outputs": [
        {
          "output_type": "stream",
          "name": "stdout",
          "text": [
            "Generic animal sound\n"
          ]
        }
      ],
      "source": [
        "obj = Animal()\n",
        "obj.speak()"
      ]
    },
    {
      "cell_type": "code",
      "source": [
        "obj = Dog()\n",
        "obj.speak()"
      ],
      "metadata": {
        "colab": {
          "base_uri": "https://localhost:8080/"
        },
        "id": "y0mWpy7aS7mG",
        "outputId": "c394efa4-cdf0-4ac3-81ed-60fab98f971e"
      },
      "execution_count": 5,
      "outputs": [
        {
          "output_type": "stream",
          "name": "stdout",
          "text": [
            "Bark!\n"
          ]
        }
      ]
    },
    {
      "cell_type": "markdown",
      "source": [
        "2. Write a program to create an abstract class Shape with a method area(). Derive classes Circle and Rectangle\n",
        "from it and implement the area() method in both."
      ],
      "metadata": {
        "id": "I7eUed3dT2R8"
      }
    },
    {
      "cell_type": "code",
      "source": [
        "from abc import ABC\n",
        "class Shape(ABC):\n",
        "  @abc.abstractmethod\n",
        "  def area(self):\n",
        "    pass\n",
        "\n",
        "class Circle (Shape):\n",
        "  def area(self):\n",
        "    return \"Area of circle is  3.14*r*r\"\n",
        "\n",
        "class Rectangle(Shape):\n",
        "  def area(self):\n",
        "    return \"Area of rectangle is l*b\""
      ],
      "metadata": {
        "id": "QwIQpulrTyEO"
      },
      "execution_count": 20,
      "outputs": []
    },
    {
      "cell_type": "code",
      "source": [
        "c = Circle()\n",
        "c.area()"
      ],
      "metadata": {
        "colab": {
          "base_uri": "https://localhost:8080/",
          "height": 36
        },
        "id": "4QdmzRg6Y8vD",
        "outputId": "df50dfb9-2fdb-4c12-ae01-87031a5824f8"
      },
      "execution_count": 21,
      "outputs": [
        {
          "output_type": "execute_result",
          "data": {
            "text/plain": [
              "'Area of circle is  3.14*r*r'"
            ],
            "application/vnd.google.colaboratory.intrinsic+json": {
              "type": "string"
            }
          },
          "metadata": {},
          "execution_count": 21
        }
      ]
    },
    {
      "cell_type": "code",
      "source": [
        "r = Rectangle()\n",
        "r.area()"
      ],
      "metadata": {
        "colab": {
          "base_uri": "https://localhost:8080/",
          "height": 36
        },
        "id": "_D2qKiLAZEln",
        "outputId": "4b04b966-1a8e-4ad4-eb2b-6091365b6eb2"
      },
      "execution_count": 22,
      "outputs": [
        {
          "output_type": "execute_result",
          "data": {
            "text/plain": [
              "'Area of rectangle is l*b'"
            ],
            "application/vnd.google.colaboratory.intrinsic+json": {
              "type": "string"
            }
          },
          "metadata": {},
          "execution_count": 22
        }
      ]
    },
    {
      "cell_type": "markdown",
      "source": [
        "3. Implement a multi-level inheritance scenario where a class Vehicle has an attribute type. Derive a class Car\n",
        "and further derive a class ElectricCar that adds a battery attribute."
      ],
      "metadata": {
        "id": "3akYrgvzZeax"
      }
    },
    {
      "cell_type": "code",
      "source": [
        "class Vehicle:\n",
        "  def vehicle_type(self):\n",
        "    print(\"there are two types of vehicle\")\n",
        "\n",
        "class Car(Vehicle):\n",
        "  def car(self):\n",
        "    print(\"this is car\")\n",
        "\n",
        "class ElectricCar(Car):\n",
        "  def electric_car(self):\n",
        "    print(\"this is electric car\")\n",
        "  def battery(self):\n",
        "    print(\"this is battery\")"
      ],
      "metadata": {
        "id": "vMn9OsDwW5ne"
      },
      "execution_count": 23,
      "outputs": []
    },
    {
      "cell_type": "code",
      "source": [
        "e = ElectricCar()\n",
        "e.vehicle_type()"
      ],
      "metadata": {
        "colab": {
          "base_uri": "https://localhost:8080/"
        },
        "id": "lpIsR-3fbjbK",
        "outputId": "c52b3dd8-cdb6-4276-d784-538a23e9a214"
      },
      "execution_count": 25,
      "outputs": [
        {
          "output_type": "stream",
          "name": "stdout",
          "text": [
            "there are two types of vehicle\n"
          ]
        }
      ]
    },
    {
      "cell_type": "code",
      "source": [
        "e = ElectricCar()\n",
        "e.car()"
      ],
      "metadata": {
        "colab": {
          "base_uri": "https://localhost:8080/"
        },
        "id": "4stmvlHicEIu",
        "outputId": "3e71d498-0586-4dab-f76c-0110bb958361"
      },
      "execution_count": 26,
      "outputs": [
        {
          "output_type": "stream",
          "name": "stdout",
          "text": [
            "this is car\n"
          ]
        }
      ]
    },
    {
      "cell_type": "code",
      "source": [
        "e = ElectricCar()\n",
        "e.electric_car()\n",
        "e.battery()"
      ],
      "metadata": {
        "colab": {
          "base_uri": "https://localhost:8080/"
        },
        "id": "GvQ51dr6cUI3",
        "outputId": "4f488a3d-ba70-4532-9567-c691dbafe883"
      },
      "execution_count": 28,
      "outputs": [
        {
          "output_type": "stream",
          "name": "stdout",
          "text": [
            "this is electric car\n",
            "this is battery\n"
          ]
        }
      ]
    },
    {
      "cell_type": "markdown",
      "source": [
        "4. Demonstrate polymorphism by creating a base class Bird with a method fly(). Create two derived classes\n",
        "Sparrow and Penguin that override the fly() method."
      ],
      "metadata": {
        "id": "Mu2gEuAVckOM"
      }
    },
    {
      "cell_type": "code",
      "source": [
        "class Bird:\n",
        "  def fly(self):\n",
        "    print(\"this is bird\")\n",
        "\n",
        "class Sparrow(Bird):\n",
        "  def fly(self):\n",
        "    print(\"this is sparrow\")\n",
        "\n",
        "class Penguin(Bird):\n",
        "  def fly(self):\n",
        "    print(\"this is penguin\")"
      ],
      "metadata": {
        "id": "dtBV-YREcbdQ"
      },
      "execution_count": 29,
      "outputs": []
    },
    {
      "cell_type": "code",
      "source": [
        "b=Bird()\n",
        "b.fly()"
      ],
      "metadata": {
        "colab": {
          "base_uri": "https://localhost:8080/"
        },
        "id": "IfVcxmDPeLu-",
        "outputId": "f94fa2be-a0cb-4966-d2df-941572e652b5"
      },
      "execution_count": 30,
      "outputs": [
        {
          "output_type": "stream",
          "name": "stdout",
          "text": [
            "this is bird\n"
          ]
        }
      ]
    },
    {
      "cell_type": "code",
      "source": [
        "b = Sparrow()\n",
        "b.fly()"
      ],
      "metadata": {
        "colab": {
          "base_uri": "https://localhost:8080/"
        },
        "id": "vuTsN0dKeVHz",
        "outputId": "adc73cce-8dcd-449f-c87a-1d1efd39f62a"
      },
      "execution_count": 31,
      "outputs": [
        {
          "output_type": "stream",
          "name": "stdout",
          "text": [
            "this is sparrow\n"
          ]
        }
      ]
    },
    {
      "cell_type": "code",
      "source": [
        "b = Penguin()\n",
        "b.fly()"
      ],
      "metadata": {
        "colab": {
          "base_uri": "https://localhost:8080/"
        },
        "id": "_Pj3CIc1enO3",
        "outputId": "39eed806-9829-4e07-e196-03830ce7d8c0"
      },
      "execution_count": 32,
      "outputs": [
        {
          "output_type": "stream",
          "name": "stdout",
          "text": [
            "this is penguin\n"
          ]
        }
      ]
    },
    {
      "cell_type": "markdown",
      "source": [
        "5. Write a program to demonstrate encapsulation by creating a class BankAccount with private attributes\n",
        "balance and methods to deposit, withdraw, and check balance."
      ],
      "metadata": {
        "id": "hLTVok8kfEUE"
      }
    },
    {
      "cell_type": "code",
      "source": [
        "class BankAccount:\n",
        "  def __init__(self,balance):\n",
        "    self.__balance = balance\n",
        "\n",
        "  def deposit(self,amount):\n",
        "    self.__balance =  self.__balance + amount\n",
        "\n",
        "  def withdraw(self,amount):\n",
        "    if self.__balance >= amount:\n",
        "      self.__balance = self.__balance - amount\n",
        "      return True\n",
        "    else:\n",
        "      return False\n",
        "\n",
        "  def check_balance(self):\n",
        "    return self.__balance\n"
      ],
      "metadata": {
        "id": "QggKOoVfesC4"
      },
      "execution_count": 1,
      "outputs": []
    },
    {
      "cell_type": "code",
      "source": [
        "acc1 = BankAccount(1000)\n",
        "acc1.check_balance()"
      ],
      "metadata": {
        "colab": {
          "base_uri": "https://localhost:8080/"
        },
        "id": "KfGANguFMZRF",
        "outputId": "01b27e0e-c561-4bad-c7d7-ffd0549844de"
      },
      "execution_count": 5,
      "outputs": [
        {
          "output_type": "execute_result",
          "data": {
            "text/plain": [
              "1000"
            ]
          },
          "metadata": {},
          "execution_count": 5
        }
      ]
    },
    {
      "cell_type": "code",
      "source": [
        "acc1.deposit(500)\n",
        "acc1.check_balance()"
      ],
      "metadata": {
        "colab": {
          "base_uri": "https://localhost:8080/"
        },
        "id": "-C0H_lsyLrOS",
        "outputId": "463aafb4-8864-4645-8b05-2aff1c091b76"
      },
      "execution_count": 6,
      "outputs": [
        {
          "output_type": "execute_result",
          "data": {
            "text/plain": [
              "1500"
            ]
          },
          "metadata": {},
          "execution_count": 6
        }
      ]
    },
    {
      "cell_type": "code",
      "source": [
        "acc1.withdraw(500)\n",
        "acc1.check_balance()"
      ],
      "metadata": {
        "colab": {
          "base_uri": "https://localhost:8080/"
        },
        "id": "HoBweJA7L70K",
        "outputId": "67c8fda6-54dd-4ed8-e185-2c67025ae6b6"
      },
      "execution_count": 7,
      "outputs": [
        {
          "output_type": "execute_result",
          "data": {
            "text/plain": [
              "1000"
            ]
          },
          "metadata": {},
          "execution_count": 7
        }
      ]
    },
    {
      "cell_type": "markdown",
      "source": [
        "6. Demonstrate runtime polymorphism using a method play() in a base class Instrument. Derive classes Guitar\n",
        "and Piano that implement their own version of play()."
      ],
      "metadata": {
        "id": "8COS0aR-M8qh"
      }
    },
    {
      "cell_type": "code",
      "source": [
        "class Instrument:\n",
        "  def play(self):\n",
        "    print(\"this is instrument\")\n",
        "\n",
        "class Guitar(Instrument):\n",
        "  def play(self):\n",
        "    print(\"this is guitar\")\n",
        "\n",
        "class Piano(Instrument):\n",
        "  def play(self):\n",
        "    print(\"this is piano\")"
      ],
      "metadata": {
        "id": "t2ruYQJQMtYp"
      },
      "execution_count": 8,
      "outputs": []
    },
    {
      "cell_type": "code",
      "source": [
        "i = Instrument()\n",
        "i.play()"
      ],
      "metadata": {
        "colab": {
          "base_uri": "https://localhost:8080/"
        },
        "id": "xUesmDSANKm4",
        "outputId": "c5af80bc-4498-4c5f-b4a2-63e2c0102e14"
      },
      "execution_count": 9,
      "outputs": [
        {
          "output_type": "stream",
          "name": "stdout",
          "text": [
            "this is instrument\n"
          ]
        }
      ]
    },
    {
      "cell_type": "code",
      "source": [
        "i = Piano()\n",
        "i.play()"
      ],
      "metadata": {
        "colab": {
          "base_uri": "https://localhost:8080/"
        },
        "id": "4hlC9wy3NUGi",
        "outputId": "a6727c5f-0c5d-4da1-8eee-3e77626ec6db"
      },
      "execution_count": 10,
      "outputs": [
        {
          "output_type": "stream",
          "name": "stdout",
          "text": [
            "this is piano\n"
          ]
        }
      ]
    },
    {
      "cell_type": "code",
      "source": [
        "i = Guitar()\n",
        "i.play()"
      ],
      "metadata": {
        "colab": {
          "base_uri": "https://localhost:8080/"
        },
        "id": "wdJZPmZaNctN",
        "outputId": "c91fc557-22f5-4a1c-f256-ce5f1b7ed5d7"
      },
      "execution_count": 11,
      "outputs": [
        {
          "output_type": "stream",
          "name": "stdout",
          "text": [
            "this is guitar\n"
          ]
        }
      ]
    },
    {
      "cell_type": "markdown",
      "source": [
        "7. Create a class MathOperations with a class method add_numbers() to add two numbers and a static\n",
        "method subtract_numbers() to subtract two numbers."
      ],
      "metadata": {
        "id": "A0lZGg_6NoL6"
      }
    },
    {
      "cell_type": "code",
      "source": [
        "class MathOperations:\n",
        "  @classmethod\n",
        "  def add_numbers(cls,a,b):\n",
        "    return a+b\n",
        "\n",
        "  @staticmethod\n",
        "  def subtract_numbers(a,b):\n",
        "    return a-b"
      ],
      "metadata": {
        "id": "3Mtm0IOANfpM"
      },
      "execution_count": 12,
      "outputs": []
    },
    {
      "cell_type": "code",
      "source": [
        "MathOperations.add_numbers(10,20)"
      ],
      "metadata": {
        "colab": {
          "base_uri": "https://localhost:8080/"
        },
        "id": "2JXaIn-tOAfS",
        "outputId": "1b74743c-f063-460b-9abe-7216e22b0e83"
      },
      "execution_count": 13,
      "outputs": [
        {
          "output_type": "execute_result",
          "data": {
            "text/plain": [
              "30"
            ]
          },
          "metadata": {},
          "execution_count": 13
        }
      ]
    },
    {
      "cell_type": "code",
      "source": [
        "MathOperations.subtract_numbers(20,10)"
      ],
      "metadata": {
        "colab": {
          "base_uri": "https://localhost:8080/"
        },
        "id": "8NSGSJPhOO1t",
        "outputId": "4cd02be0-fd73-4016-8516-6d3a6f4d5780"
      },
      "execution_count": 14,
      "outputs": [
        {
          "output_type": "execute_result",
          "data": {
            "text/plain": [
              "10"
            ]
          },
          "metadata": {},
          "execution_count": 14
        }
      ]
    },
    {
      "cell_type": "markdown",
      "source": [
        "8. Implement a class Person with a class method to count the total number of persons created."
      ],
      "metadata": {
        "id": "kQID1iiqOcF3"
      }
    },
    {
      "cell_type": "code",
      "source": [
        "class Person:\n",
        "  total_number_of_persons = 0\n",
        "\n",
        "  def __init__(self,name):\n",
        "    self.name = name\n",
        "    Person.total_number_of_persons = Person.total_number_of_persons + 1\n",
        "\n",
        "  @classmethod\n",
        "  def count_persons(cls):\n",
        "    return cls.total_number_of_persons"
      ],
      "metadata": {
        "id": "pHW1-ERhOY34"
      },
      "execution_count": 51,
      "outputs": []
    },
    {
      "cell_type": "code",
      "source": [
        "Person.total_number_of_persons"
      ],
      "metadata": {
        "colab": {
          "base_uri": "https://localhost:8080/"
        },
        "id": "a0yyh08LRwm7",
        "outputId": "3b3c27e7-7fcf-4642-f835-58ee8213e40b"
      },
      "execution_count": 52,
      "outputs": [
        {
          "output_type": "execute_result",
          "data": {
            "text/plain": [
              "0"
            ]
          },
          "metadata": {},
          "execution_count": 52
        }
      ]
    },
    {
      "cell_type": "code",
      "source": [
        "per1 = Person(\"ram\")"
      ],
      "metadata": {
        "id": "Uk1LFejKPhxs"
      },
      "execution_count": 53,
      "outputs": []
    },
    {
      "cell_type": "code",
      "source": [
        "per2 = Person(\"shyam\")"
      ],
      "metadata": {
        "id": "6-l44LYwPoDQ"
      },
      "execution_count": 54,
      "outputs": []
    },
    {
      "cell_type": "code",
      "source": [
        "Person.total_number_of_persons"
      ],
      "metadata": {
        "colab": {
          "base_uri": "https://localhost:8080/"
        },
        "id": "rFJZs4IvSCOM",
        "outputId": "e78cdb16-6bca-40f3-a510-6c4672a6ce6c"
      },
      "execution_count": 56,
      "outputs": [
        {
          "output_type": "execute_result",
          "data": {
            "text/plain": [
              "2"
            ]
          },
          "metadata": {},
          "execution_count": 56
        }
      ]
    },
    {
      "cell_type": "markdown",
      "source": [
        "9. Write a class Fraction with attributes numerator and denominator. Override the str method to display the\n",
        "fraction as \"numerator/denominator\"."
      ],
      "metadata": {
        "id": "stwQxNGySNxO"
      }
    },
    {
      "cell_type": "code",
      "source": [
        "class Fraction:\n",
        "  def __init__(self,numerator,denominator):\n",
        "    self.numerator = numerator\n",
        "    self.denominator = denominator\n",
        "\n",
        "  def __str__(self):\n",
        "    return f\"{self.numerator}/{self.denominator}\""
      ],
      "metadata": {
        "id": "j82C1D5tSJZb"
      },
      "execution_count": 57,
      "outputs": []
    },
    {
      "cell_type": "code",
      "source": [
        "fr = Fraction(5,9)\n",
        "print(fr)"
      ],
      "metadata": {
        "colab": {
          "base_uri": "https://localhost:8080/"
        },
        "id": "VvBZA6OISppz",
        "outputId": "0c720dcd-c5ea-4acb-fa52-0f2c965ab055"
      },
      "execution_count": 59,
      "outputs": [
        {
          "output_type": "stream",
          "name": "stdout",
          "text": [
            "5/9\n"
          ]
        }
      ]
    },
    {
      "cell_type": "markdown",
      "source": [
        "10. Demonstrate operator overloading by creating a class Vector and overriding the add method to add two\n",
        "vectors."
      ],
      "metadata": {
        "id": "dUVcaL37S1OZ"
      }
    },
    {
      "cell_type": "code",
      "source": [
        "class Vector:\n",
        "  def __init__(self,x,y):\n",
        "    self.x = x\n",
        "    self.y = y\n",
        "\n",
        "  def __add__(self,other):\n",
        "    return Vector(self.x + other.x,self.y + other.y)"
      ],
      "metadata": {
        "id": "5cPxp1hGSt6p"
      },
      "execution_count": 67,
      "outputs": []
    },
    {
      "cell_type": "code",
      "source": [
        "p1 = Vector(1,2)\n",
        "p2 = Vector(3,4)"
      ],
      "metadata": {
        "id": "-UBXv0OTUR_J"
      },
      "execution_count": 68,
      "outputs": []
    },
    {
      "cell_type": "code",
      "source": [
        "p3 = p1 + p2\n",
        "print(p3.x,p3.y)"
      ],
      "metadata": {
        "colab": {
          "base_uri": "https://localhost:8080/"
        },
        "id": "B9gM0ZtHUU5W",
        "outputId": "4b2d9588-285a-4e25-a9c8-590f930b813c"
      },
      "execution_count": 69,
      "outputs": [
        {
          "output_type": "stream",
          "name": "stdout",
          "text": [
            "4 6\n"
          ]
        }
      ]
    },
    {
      "cell_type": "markdown",
      "source": [
        "11. Create a class Person with attributes name and age. Add a method greet() that prints \"Hello, my name is\n",
        "{name} and I am {age} years old.\""
      ],
      "metadata": {
        "id": "iS7TWCrMUfTg"
      }
    },
    {
      "cell_type": "code",
      "source": [
        "class Person:\n",
        "  def __init__(self,name,age):\n",
        "    self.name = name\n",
        "    self.age = age\n",
        "\n",
        "  def greet(self):\n",
        "    print(f\"Hello, my name is {self.name} and I am {self.age} years old.\")"
      ],
      "metadata": {
        "id": "vuCloyTsUYNW"
      },
      "execution_count": 70,
      "outputs": []
    },
    {
      "cell_type": "code",
      "source": [
        "pers = Person(\"Hariom\",20)\n",
        "pers.greet()"
      ],
      "metadata": {
        "colab": {
          "base_uri": "https://localhost:8080/"
        },
        "id": "V2_L_F7XUvi9",
        "outputId": "36c73028-5597-40b2-b4af-1184aeb06cc3"
      },
      "execution_count": 71,
      "outputs": [
        {
          "output_type": "stream",
          "name": "stdout",
          "text": [
            "Hello, my name is Hariom and I am 20 years old.\n"
          ]
        }
      ]
    },
    {
      "cell_type": "markdown",
      "source": [
        "12. Implement a class Student with attributes name and grades. Create a method average_grade() to compute\n",
        "the average of the grades"
      ],
      "metadata": {
        "id": "9L92RbLHVDcc"
      }
    },
    {
      "cell_type": "code",
      "source": [
        "class Student:\n",
        "  def __init__(self,name,grades):\n",
        "    self.name = name\n",
        "    self.grades = grades\n",
        "\n",
        "  def average_grade(self):\n",
        "    return sum(self.grades)/len(self.grades)"
      ],
      "metadata": {
        "id": "EXuMkQmVU3xZ"
      },
      "execution_count": 72,
      "outputs": []
    },
    {
      "cell_type": "code",
      "source": [
        "av = Student(\"Hariom\",[7,11,19,41])\n",
        "av.average_grade()"
      ],
      "metadata": {
        "colab": {
          "base_uri": "https://localhost:8080/"
        },
        "id": "y26_P0k6VNEv",
        "outputId": "04978c3b-30ce-4ba3-b3c9-e8298a7f819a"
      },
      "execution_count": 73,
      "outputs": [
        {
          "output_type": "execute_result",
          "data": {
            "text/plain": [
              "19.5"
            ]
          },
          "metadata": {},
          "execution_count": 73
        }
      ]
    },
    {
      "cell_type": "markdown",
      "source": [
        "13. Create a class Rectangle with methods set_dimensions() to set the dimensions and area() to calculate the\n",
        "area."
      ],
      "metadata": {
        "id": "tvFrIrdWVmuS"
      }
    },
    {
      "cell_type": "code",
      "source": [
        "class Rectangle:\n",
        "  def __init__(self,length,width):\n",
        "    self.length = length\n",
        "    self.width = width\n",
        "\n",
        "  def set_dimensions(self,length,width):\n",
        "    self.length = length\n",
        "    self.width = width\n",
        "\n",
        "  def area(self):\n",
        "    return self.length * self.width"
      ],
      "metadata": {
        "id": "AtB79L_2VbX-"
      },
      "execution_count": 77,
      "outputs": []
    },
    {
      "cell_type": "code",
      "source": [
        "a = Rectangle(5,20)\n",
        "a.area()"
      ],
      "metadata": {
        "colab": {
          "base_uri": "https://localhost:8080/"
        },
        "id": "Hrz2cx6IWCBh",
        "outputId": "2a6e2d1c-7e38-4a38-e69d-e9b2773ed36a"
      },
      "execution_count": 79,
      "outputs": [
        {
          "output_type": "execute_result",
          "data": {
            "text/plain": [
              "100"
            ]
          },
          "metadata": {},
          "execution_count": 79
        }
      ]
    },
    {
      "cell_type": "markdown",
      "source": [
        "14. Create a class Employee with a method calculate_salary() that computes the salary based on hours worked\n",
        "and hourly rate. Create a derived class Manager that adds a bonus to the salary."
      ],
      "metadata": {
        "id": "XgMFX_-EWkcP"
      }
    },
    {
      "cell_type": "code",
      "source": [
        "class Employee:\n",
        "    def __init__(self, name, hours_worked, hourly_rate):\n",
        "        self.name = name\n",
        "        self.hours_worked = hours_worked\n",
        "        self.hourly_rate = hourly_rate\n",
        "\n",
        "    def calculate_salary(self):\n",
        "        return self.hours_worked * self.hourly_rate\n",
        "\n",
        "class Manager(Employee):\n",
        "    def __init__(self, name, hours_worked, hourly_rate, bonus):\n",
        "        super().__init__(name, hours_worked, hourly_rate)\n",
        "        self.bonus = bonus\n",
        "\n",
        "    def calculate_total_salary(self):\n",
        "        return super().calculate_salary() + self.bonus"
      ],
      "metadata": {
        "id": "e3RqRgcpanT4"
      },
      "execution_count": null,
      "outputs": []
    },
    {
      "cell_type": "code",
      "source": [
        "emp = Employee(\"Hariom\", 8, 200)\n",
        "print(emp.calculate_salary())\n",
        "\n",
        "mgr = Manager(\"Hariom\",8, 200, 400)\n",
        "print(mgr.calculate_total_salary())"
      ],
      "metadata": {
        "colab": {
          "base_uri": "https://localhost:8080/"
        },
        "id": "xGvvx2ZodZzp",
        "outputId": "02e65f15-fd68-4306-8f21-f764874bf3a4"
      },
      "execution_count": 114,
      "outputs": [
        {
          "output_type": "stream",
          "name": "stdout",
          "text": [
            "1600\n",
            "2000\n"
          ]
        }
      ]
    },
    {
      "cell_type": "markdown",
      "source": [
        "15. Create a class Product with attributes name, price, and quantity. Implement a method total_price() that\n",
        "calculates the total price of the product."
      ],
      "metadata": {
        "id": "GP6azlZdeVmW"
      }
    },
    {
      "cell_type": "code",
      "source": [
        "class Product:\n",
        "  def __init__(self,name,price,quantity):\n",
        "    self.name = name\n",
        "    self.price = price\n",
        "    self.quantity = quantity\n",
        "\n",
        "  def total_price(self):\n",
        "    return self.price * self.quantity"
      ],
      "metadata": {
        "id": "thFQaDrMdabK"
      },
      "execution_count": 115,
      "outputs": []
    },
    {
      "cell_type": "code",
      "source": [
        "cal = Product(\"chocolate\",20,5)\n",
        "cal.total_price()"
      ],
      "metadata": {
        "colab": {
          "base_uri": "https://localhost:8080/"
        },
        "id": "EhNpWG_pepT1",
        "outputId": "6a334f11-0e9e-47d1-c149-0e72bf9e59b5"
      },
      "execution_count": 116,
      "outputs": [
        {
          "output_type": "execute_result",
          "data": {
            "text/plain": [
              "100"
            ]
          },
          "metadata": {},
          "execution_count": 116
        }
      ]
    },
    {
      "cell_type": "markdown",
      "source": [
        "16. Create a class Animal with an abstract method sound(). Create two derived classes Cow and Sheep that\n",
        "implement the sound() method."
      ],
      "metadata": {
        "id": "EtHQVOY0e36J"
      }
    },
    {
      "cell_type": "code",
      "source": [
        "class Animal:\n",
        "  def sound(self):\n",
        "    print(\"this is animal\")\n",
        "\n",
        "class Cow(Animal):\n",
        "  def sound(self):\n",
        "    print(\"this is cow\")\n",
        "\n",
        "class Sheep(Animal):\n",
        "  def sound(self):\n",
        "    print(\"this is sheep\")"
      ],
      "metadata": {
        "id": "Q5kFiCf3e01j"
      },
      "execution_count": 117,
      "outputs": []
    },
    {
      "cell_type": "code",
      "source": [
        "a = Animal()\n",
        "a.sound()"
      ],
      "metadata": {
        "colab": {
          "base_uri": "https://localhost:8080/"
        },
        "id": "_FmQR09QfE9d",
        "outputId": "f3bdd2a0-b41c-4e54-a9c2-dc631e061f12"
      },
      "execution_count": 119,
      "outputs": [
        {
          "output_type": "stream",
          "name": "stdout",
          "text": [
            "this is animal\n"
          ]
        }
      ]
    },
    {
      "cell_type": "code",
      "source": [
        "c = Cow()\n",
        "c.sound()"
      ],
      "metadata": {
        "colab": {
          "base_uri": "https://localhost:8080/"
        },
        "id": "EaArCa3NfN2N",
        "outputId": "c62198b9-adc1-46ae-a185-ca526c94f1b7"
      },
      "execution_count": 120,
      "outputs": [
        {
          "output_type": "stream",
          "name": "stdout",
          "text": [
            "this is cow\n"
          ]
        }
      ]
    },
    {
      "cell_type": "code",
      "source": [
        "s = Sheep()\n",
        "s.sound()"
      ],
      "metadata": {
        "colab": {
          "base_uri": "https://localhost:8080/"
        },
        "id": "jjzN_reRfasW",
        "outputId": "f651d49f-34b1-4693-b355-64d22535e07b"
      },
      "execution_count": 121,
      "outputs": [
        {
          "output_type": "stream",
          "name": "stdout",
          "text": [
            "this is sheep\n"
          ]
        }
      ]
    },
    {
      "cell_type": "markdown",
      "source": [
        "17. Create a class Book with attributes title, author, and year_published. Add a method get_book_info() that\n",
        "returns a formatted string with the book's details."
      ],
      "metadata": {
        "id": "ZLl-e-iUflxD"
      }
    },
    {
      "cell_type": "code",
      "source": [
        "class Book:\n",
        "  def __init__(self,title,author,year_published):\n",
        "    self.title = title\n",
        "    self.author = author\n",
        "    self.year_published = year_published\n",
        "\n",
        "  def get_book_info(self):\n",
        "    return f\"Title: {self.title}, Author: {self.author}  ,Year Published: {self.year_published}\""
      ],
      "metadata": {
        "id": "2gXOr_gsfeMh"
      },
      "execution_count": 129,
      "outputs": []
    },
    {
      "cell_type": "code",
      "source": [
        "b = Book(\"Python programming for beginners\", \"Michael Knapp\", 2006)\n",
        "b.get_book_info()"
      ],
      "metadata": {
        "colab": {
          "base_uri": "https://localhost:8080/",
          "height": 36
        },
        "id": "ikr9HThlgANY",
        "outputId": "a2c8efb5-6de0-42e7-8a98-e3580e7f714b"
      },
      "execution_count": 130,
      "outputs": [
        {
          "output_type": "execute_result",
          "data": {
            "text/plain": [
              "'Title: Python programming for beginners, Author: Michael Knapp  ,Year Published: 2006'"
            ],
            "application/vnd.google.colaboratory.intrinsic+json": {
              "type": "string"
            }
          },
          "metadata": {},
          "execution_count": 130
        }
      ]
    },
    {
      "cell_type": "markdown",
      "source": [
        "18. Create a class House with attributes address and price. Create a derived class Mansion that adds an\n",
        "attribute number_of_rooms."
      ],
      "metadata": {
        "id": "5X21twqhhPoK"
      }
    },
    {
      "cell_type": "code",
      "source": [
        "class House:\n",
        "    def __init__(self, address, price):\n",
        "        self.address = address\n",
        "        self.price = price\n",
        "\n",
        "class Mansion(House):\n",
        "    def __init__(self, address, price, number_of_rooms):\n",
        "        super().__init__(address, price)\n",
        "        self.number_of_rooms = number_of_rooms"
      ],
      "metadata": {
        "id": "6ueKEt2Cixiy"
      },
      "execution_count": 148,
      "outputs": []
    },
    {
      "cell_type": "code",
      "source": [
        "a = House(\"123 noida\", 25000)"
      ],
      "metadata": {
        "id": "2mlHH4LnjhlP"
      },
      "execution_count": 150,
      "outputs": []
    },
    {
      "cell_type": "code",
      "source": [
        "sh = Mansion(\"123 noida\", 25000, 4)\n",
        "sh.number_of_rooms"
      ],
      "metadata": {
        "colab": {
          "base_uri": "https://localhost:8080/"
        },
        "id": "tNoPj0eljou0",
        "outputId": "4abcc777-2431-48ce-c2d1-308c081e8557"
      },
      "execution_count": 151,
      "outputs": [
        {
          "output_type": "execute_result",
          "data": {
            "text/plain": [
              "4"
            ]
          },
          "metadata": {},
          "execution_count": 151
        }
      ]
    }
  ]
}