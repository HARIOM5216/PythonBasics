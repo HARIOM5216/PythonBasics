{
  "nbformat": 4,
  "nbformat_minor": 0,
  "metadata": {
    "colab": {
      "provenance": []
    },
    "kernelspec": {
      "name": "python3",
      "display_name": "Python 3"
    },
    "language_info": {
      "name": "python"
    }
  },
  "cells": [
    {
      "cell_type": "markdown",
      "source": [
        "#Python Basics Questions"
      ],
      "metadata": {
        "id": "K-GKTWqpxLfS"
      }
    },
    {
      "cell_type": "markdown",
      "source": [
        "1. What is Python, and why is it popular ?\n",
        "  - Python is a high-level, interpreted programming language known for its simplicity, readability, and versatility. It's widely used for various purposes like web development, data analysis, artificial intelligence, automation, and more.\n",
        "  - Python is popular from its simplicity, versatility, large community, and cross-platform compatibility, which making it a favorite among developers, data scientists, and researchers.\n",
        "\n",
        "2. What is an interpreter in Python ?\n",
        "  - An interpreter is a program that reads and executes Python code line by line. It translates the code into machine code that the computer's processor can understand and execute.\n",
        "  - It performing tasks like lexical analysis, syntax analysis, bytecode generation, and execution, enabling interactive coding, dynamic typing, and runtime error handling.\n",
        "\n",
        "3. What are pre-defined keywords in Python ?\n",
        "  - Pre-define keywords are reserved words that have special meanings & have specific purpose and are used to define the syntax and structure of the language."
      ],
      "metadata": {
        "id": "vH7K8eiCxdWK"
      }
    },
    {
      "cell_type": "code",
      "source": [
        "help(\"keywords\")"
      ],
      "metadata": {
        "colab": {
          "base_uri": "https://localhost:8080/"
        },
        "id": "VcOxbFt-zrko",
        "outputId": "d2ef3411-0f9b-41c4-96db-1bd16de33f2e"
      },
      "execution_count": null,
      "outputs": [
        {
          "output_type": "stream",
          "name": "stdout",
          "text": [
            "\n",
            "Here is a list of the Python keywords.  Enter any keyword to get more help.\n",
            "\n",
            "False               class               from                or\n",
            "None                continue            global              pass\n",
            "True                def                 if                  raise\n",
            "and                 del                 import              return\n",
            "as                  elif                in                  try\n",
            "assert              else                is                  while\n",
            "async               except              lambda              with\n",
            "await               finally             nonlocal            yield\n",
            "break               for                 not                 \n",
            "\n"
          ]
        }
      ]
    },
    {
      "cell_type": "markdown",
      "source": [
        "  - These keywords cannot be used as a variable names or identifiers in python code.\n",
        "  4. What are pre-defined keywords in Python ?\n",
        "  - No, keywords cannot be used as variable names in Python. Keywords are reserved words that have special meanings, and using them as variable names would cause syntax errors.\n",
        "\n",
        "5.  What is mutability in Python ?\n",
        "  - A ability of object or container to be changed/modified its state or value  after they are created are called as mutability.\n",
        "  Example: lists, dictionary, sets.\n",
        "\n",
        "6. Why are lists mutable, but tuples are immutable ?\n",
        "  - Lists are mutable because it allows us to change their contents after we're created. This is useful for dynamically adding, removing, or modifying elements within a list, which is a fundamental feature for many programming tasks.\n",
        "  - Tuples are immutable because Once we create a tuple, we can't change its contents. This immutability makes tuples useful for representing collections of items that should not be changed or altered, like coordinates or database records.\n",
        "\n",
        "7. What is the difference between “==” and “is” operators in Python ?\n",
        "  -  \"==\" checks if the values of two objects are equal.\n",
        "  -  \"is\" checks if two variables refer to the same object in memory (i.e they have the same identity).\n",
        "\n",
        "8. What are logical operators in Python ?\n",
        "  -  and: It returns True if both operands are true.\n",
        "  -  or: It returns True if at least one of the operands is true.\n",
        "  -  not: It returns True if the operand is false and False if the operand is true.\n",
        "9. What is type casting in Python ?\n",
        "  - Type casting is process of changing the data type of value or object .we can convert between types like integers, floats, strings, and more using functions like int(), float(), and str().\n",
        "\n",
        "10. What is the difference between implicit and explicit type casting ?\n",
        "  - Implicit type casting is done automatically by Python, usually when we mix data types in an operation (e.g., adding an integer to a float).\n",
        "  - Explicit type casting is when you manually convert a data type using inbuilt functions like int(), float(), or str().\n",
        "\n",
        "11. What is the purpose of conditional statements in Python ?\n",
        "  - Conditional statements (like if, if-else, if-elif-else , and nested if-else) help us to control the flow of your program by executing different blocks of code based on whether a condition is true or false. They help make decisions based on some pre conditions.\n",
        "\n",
        "12. How does the elif statement work ?\n",
        "  - The elif statement is short-term for \"else if\" It allows us to check multiple conditions in a sequence. If the if condition is false, it checks the elif condition. we can have multiple elif statements, and if one of them is true, its corresponding block of code runs/executes, and the rest are skipped.\n",
        "13. What is the difference between for and while loops ?\n",
        "  - for loops are used when we know how many times we want to iterate, often to go through a sequence like a list or string.\n",
        "  - while loops repeatedly executed a block of code until a condition is true/met, making them suitable when we don't know the exact number of iterations in advance.\n",
        "\n",
        "14. Describe a scenario where a while loop is more suitable than a for loop.\n",
        "  - A while loop is more suitable than a for loop when we need to repeat a block of code until a certain condition is met, and we don't know in advance how many times that will be.\n",
        "  For example, reading user input until they enter a specific value, or simulating a process that runs until a threshold is reached."
      ],
      "metadata": {
        "id": "MIUh0aWW2p-B"
      }
    },
    {
      "cell_type": "markdown",
      "source": [
        "#Practical Questions"
      ],
      "metadata": {
        "id": "WLxfbsKgD9SN"
      }
    },
    {
      "cell_type": "markdown",
      "source": [
        "1. Write a Python program to print \"Hello, World!\""
      ],
      "metadata": {
        "id": "7PbymGoMUVCb"
      }
    },
    {
      "cell_type": "code",
      "source": [
        "print(\"Hello,World!\")"
      ],
      "metadata": {
        "colab": {
          "base_uri": "https://localhost:8080/"
        },
        "id": "rDUExFWND-or",
        "outputId": "4801ed32-da63-45e6-8aab-48d94a2c3695"
      },
      "execution_count": null,
      "outputs": [
        {
          "output_type": "stream",
          "name": "stdout",
          "text": [
            "Hello,World!\n"
          ]
        }
      ]
    },
    {
      "cell_type": "markdown",
      "source": [
        "2. Write a Python program that displays your name and age."
      ],
      "metadata": {
        "id": "EuHCRR2vU0h_"
      }
    },
    {
      "cell_type": "code",
      "source": [
        "name = \"Hariom kumar\"\n",
        "age = 22\n",
        "print(f\"My name is {name} and my age is {age}\")"
      ],
      "metadata": {
        "colab": {
          "base_uri": "https://localhost:8080/"
        },
        "id": "JG7lRKfZUr1W",
        "outputId": "877bce21-b6fe-430e-ba61-f4fe4a054755"
      },
      "execution_count": null,
      "outputs": [
        {
          "output_type": "stream",
          "name": "stdout",
          "text": [
            "My name is Hariom kumar and my age is 22\n"
          ]
        }
      ]
    },
    {
      "cell_type": "markdown",
      "source": [
        "3. Write code to print all the pre-defined keywords in Python using the keyword library."
      ],
      "metadata": {
        "id": "e1WSPMl3V2s2"
      }
    },
    {
      "cell_type": "code",
      "source": [
        "help(\"keywords\")"
      ],
      "metadata": {
        "colab": {
          "base_uri": "https://localhost:8080/"
        },
        "id": "q9gUXaFBVZZo",
        "outputId": "5906db38-5368-405a-9784-c3b29bd10e2f"
      },
      "execution_count": null,
      "outputs": [
        {
          "output_type": "stream",
          "name": "stdout",
          "text": [
            "\n",
            "Here is a list of the Python keywords.  Enter any keyword to get more help.\n",
            "\n",
            "False               class               from                or\n",
            "None                continue            global              pass\n",
            "True                def                 if                  raise\n",
            "and                 del                 import              return\n",
            "as                  elif                in                  try\n",
            "assert              else                is                  while\n",
            "async               except              lambda              with\n",
            "await               finally             nonlocal            yield\n",
            "break               for                 not                 \n",
            "\n"
          ]
        }
      ]
    },
    {
      "cell_type": "markdown",
      "source": [
        "4.  Write a program that checks if a given word is a Python keyword."
      ],
      "metadata": {
        "id": "DaBxvqIzWLfe"
      }
    },
    {
      "cell_type": "code",
      "source": [
        "import keyword\n",
        "\n",
        "def check_keyword(word):\n",
        "    if keyword.iskeyword(word):\n",
        "        print(f\"'{word}' is a Python keyword.\")\n",
        "    else:\n",
        "        print(f\"'{word}' is not a Python keyword.\")\n",
        "\n",
        "user_input = input(\"Enter a word to check if it's a Python keyword: \")\n",
        "check_keyword(user_input)\n"
      ],
      "metadata": {
        "colab": {
          "base_uri": "https://localhost:8080/"
        },
        "id": "Da2p6B35ZimR",
        "outputId": "c7079262-f920-4290-f5b6-6da4d3d45316"
      },
      "execution_count": null,
      "outputs": [
        {
          "output_type": "stream",
          "name": "stdout",
          "text": [
            "Enter a word to check if it's a Python keyword: for\n",
            "'for' is a Python keyword.\n"
          ]
        }
      ]
    },
    {
      "cell_type": "code",
      "source": [
        "import keyword\n",
        "\n",
        "def check_keyword(word):\n",
        "    if keyword.iskeyword(word):\n",
        "        print(f\"'{word}' is a Python keyword.\")\n",
        "    else:\n",
        "        print(f\"'{word}' is not a Python keyword.\")\n",
        "\n",
        "user_input = input(\"Enter a word to check if it's a Python keyword: \")\n",
        "check_keyword(user_input)\n"
      ],
      "metadata": {
        "colab": {
          "base_uri": "https://localhost:8080/"
        },
        "id": "8q9kcdqnbGwO",
        "outputId": "106d5f57-f100-4305-ff6b-16da6605b39a"
      },
      "execution_count": null,
      "outputs": [
        {
          "output_type": "stream",
          "name": "stdout",
          "text": [
            "Enter a word to check if it's a Python keyword: abc\n",
            "'abc' is not a Python keyword.\n"
          ]
        }
      ]
    },
    {
      "cell_type": "markdown",
      "source": [
        "5.  Create a list and tuple in Python, and demonstrate how attempting to change an element works differently\n",
        "for each."
      ],
      "metadata": {
        "id": "j3Unj-Ubbfnu"
      }
    },
    {
      "cell_type": "code",
      "source": [
        "# Creating a list and a tuple\n",
        "list = [1,2,3,4,5]\n",
        "tuple = (1,2,3,4,5)\n",
        "\n",
        "\n",
        "print(\"existing list\",list)\n",
        "list[0] = 50\n",
        "print(\"new list\" , list)\n",
        "\n",
        "\n",
        "print(\"existing tuple\",tuple)\n",
        "try:\n",
        "     tuple[0] = 15\n",
        "except TypeError as e:\n",
        "    print(\"Error while modifying tuple:\", e)"
      ],
      "metadata": {
        "colab": {
          "base_uri": "https://localhost:8080/"
        },
        "id": "xfNow7YAbZUT",
        "outputId": "ddbe494e-fae2-41e8-c493-da1ea2d34a70"
      },
      "execution_count": null,
      "outputs": [
        {
          "output_type": "stream",
          "name": "stdout",
          "text": [
            "existing list [1, 2, 3, 4, 5]\n",
            "new list [50, 2, 3, 4, 5]\n",
            "existing tuple (1, 2, 3, 4, 5)\n",
            "Error while modifying tuple: 'tuple' object does not support item assignment\n"
          ]
        }
      ]
    },
    {
      "cell_type": "markdown",
      "source": [
        "6. Write a function to demonstrate the behavior of mutable and immutable arguments.\n",
        "\n"
      ],
      "metadata": {
        "id": "FH0ICQYsemCz"
      }
    },
    {
      "cell_type": "code",
      "source": [
        "name = \"Hariom\"   #string is immutable object\n",
        "list = [1,2,3,4,5]  # list is mutable object\n",
        "print(\"original\",name)\n",
        "print(\"original\",list)"
      ],
      "metadata": {
        "colab": {
          "base_uri": "https://localhost:8080/"
        },
        "id": "PBHfMC1EFQue",
        "outputId": "c325b929-ae1d-411a-cff7-e39b44271aa6"
      },
      "execution_count": 14,
      "outputs": [
        {
          "output_type": "stream",
          "name": "stdout",
          "text": [
            "original Hariom\n",
            "original [1, 2, 3, 4, 5]\n"
          ]
        }
      ]
    },
    {
      "cell_type": "code",
      "source": [
        "list[0] = 10\n",
        "print(\"modified\",list)"
      ],
      "metadata": {
        "colab": {
          "base_uri": "https://localhost:8080/"
        },
        "id": "JvInX8sJG2qU",
        "outputId": "6a550119-c1e4-44db-8a42-6e595ed96a5e"
      },
      "execution_count": 15,
      "outputs": [
        {
          "output_type": "stream",
          "name": "stdout",
          "text": [
            "modified [10, 2, 3, 4, 5]\n"
          ]
        }
      ]
    },
    {
      "cell_type": "code",
      "source": [
        "name[2] = \"K\"   #shows error because string can't be changed(it is immutable object)\n",
        "print(\"modified\",name)"
      ],
      "metadata": {
        "colab": {
          "base_uri": "https://localhost:8080/",
          "height": 158
        },
        "id": "41bMLI9-IVw_",
        "outputId": "6549a23b-18e8-4795-a799-09be04482ea7"
      },
      "execution_count": 16,
      "outputs": [
        {
          "output_type": "error",
          "ename": "TypeError",
          "evalue": "'str' object does not support item assignment",
          "traceback": [
            "\u001b[0;31m---------------------------------------------------------------------------\u001b[0m",
            "\u001b[0;31mTypeError\u001b[0m                                 Traceback (most recent call last)",
            "\u001b[0;32m/tmp/ipython-input-16-3256872496.py\u001b[0m in \u001b[0;36m<cell line: 0>\u001b[0;34m()\u001b[0m\n\u001b[0;32m----> 1\u001b[0;31m \u001b[0mname\u001b[0m\u001b[0;34m[\u001b[0m\u001b[0;36m2\u001b[0m\u001b[0;34m]\u001b[0m \u001b[0;34m=\u001b[0m \u001b[0;34m\"K\"\u001b[0m\u001b[0;34m\u001b[0m\u001b[0;34m\u001b[0m\u001b[0m\n\u001b[0m\u001b[1;32m      2\u001b[0m \u001b[0mprint\u001b[0m\u001b[0;34m(\u001b[0m\u001b[0;34m\"modified\"\u001b[0m\u001b[0;34m,\u001b[0m\u001b[0mname\u001b[0m\u001b[0;34m)\u001b[0m\u001b[0;34m\u001b[0m\u001b[0;34m\u001b[0m\u001b[0m\n",
            "\u001b[0;31mTypeError\u001b[0m: 'str' object does not support item assignment"
          ]
        }
      ]
    },
    {
      "cell_type": "markdown",
      "source": [
        "7. Write a program that performs basic arithmetic operations on two user-input numbers."
      ],
      "metadata": {
        "id": "jDQc378QI4Kh"
      }
    },
    {
      "cell_type": "code",
      "source": [
        "a = int(input(\"enter a number:\"))\n",
        "b = int(input(\"enter a number:\"))\n",
        "addition = a + b\n",
        "subtraction = a-b\n",
        "multiplication = a*b\n",
        "division = a/b\n",
        "print(\"addition\", addition)\n",
        "print(\"subtraction\", subtraction)\n",
        "print(\"multiplication\", multiplication)\n",
        "print(\"division\", division)"
      ],
      "metadata": {
        "colab": {
          "base_uri": "https://localhost:8080/"
        },
        "id": "8fq9JIkCI3vt",
        "outputId": "c7e1a873-56cd-421a-e20b-43c728a2e801"
      },
      "execution_count": 20,
      "outputs": [
        {
          "output_type": "stream",
          "name": "stdout",
          "text": [
            "enter a number:5\n",
            "enter a number:6\n",
            "addition 11\n",
            "subtraction -1\n",
            "multiplication 30\n",
            "division 0.8333333333333334\n"
          ]
        }
      ]
    },
    {
      "cell_type": "markdown",
      "source": [
        "8.  Write a program to demonstrate the use of logical operators."
      ],
      "metadata": {
        "id": "h8RXUHp3Lfnh"
      }
    },
    {
      "cell_type": "code",
      "source": [
        "a = True\n",
        "b = False\n",
        "print(\"AND\",a and b)\n",
        "print(\"OR\",a or b)\n",
        "print(\"NOT_A\",not a)\n",
        "print(\"NOT_B\",not b)"
      ],
      "metadata": {
        "colab": {
          "base_uri": "https://localhost:8080/"
        },
        "id": "izjxkttSQqsR",
        "outputId": "af5c8a88-f954-49c6-b8f2-f7d2f04d6a65"
      },
      "execution_count": 37,
      "outputs": [
        {
          "output_type": "stream",
          "name": "stdout",
          "text": [
            "AND False\n",
            "OR True\n",
            "NOT_A False\n",
            "NOT_B True\n"
          ]
        }
      ]
    },
    {
      "cell_type": "markdown",
      "source": [
        "9. Write a Python program to convert user input from string to integer, float, and boolean types."
      ],
      "metadata": {
        "id": "AVX1r5t4R9T8"
      }
    },
    {
      "cell_type": "code",
      "source": [
        "# string to integer\n",
        "a = input(\"Enter a number: \") #string\n",
        "type (a)\n",
        "a = int(a) # string convert into integer\n",
        "type (a)"
      ],
      "metadata": {
        "colab": {
          "base_uri": "https://localhost:8080/"
        },
        "id": "Yba71BHMRiCs",
        "outputId": "d0866970-6931-4528-821c-73111e43a588"
      },
      "execution_count": 49,
      "outputs": [
        {
          "name": "stdout",
          "output_type": "stream",
          "text": [
            "Enter a number: 25\n"
          ]
        },
        {
          "output_type": "execute_result",
          "data": {
            "text/plain": [
              "int"
            ]
          },
          "metadata": {},
          "execution_count": 49
        }
      ]
    },
    {
      "cell_type": "code",
      "source": [
        "# string to float\n",
        "a = input(\"Enter a number: \") #string\n",
        "type (a)\n",
        "a = float(a) # string convert into float\n",
        "type (a)"
      ],
      "metadata": {
        "colab": {
          "base_uri": "https://localhost:8080/"
        },
        "id": "7ibGIvz6YPkI",
        "outputId": "7c888eae-769d-423f-8ea7-baa29880a327"
      },
      "execution_count": 50,
      "outputs": [
        {
          "name": "stdout",
          "output_type": "stream",
          "text": [
            "Enter a number: 66\n"
          ]
        },
        {
          "output_type": "execute_result",
          "data": {
            "text/plain": [
              "float"
            ]
          },
          "metadata": {},
          "execution_count": 50
        }
      ]
    },
    {
      "cell_type": "code",
      "source": [
        "# string to boolean\n",
        "a = input(\"Enter a number: \") #string\n",
        "type (a)\n",
        "a = bool(a) # string convert into boolean\n",
        "type (a)"
      ],
      "metadata": {
        "colab": {
          "base_uri": "https://localhost:8080/"
        },
        "id": "HUh2NzhpYihB",
        "outputId": "81fcc755-f9b5-446b-8ebf-419906dc0648"
      },
      "execution_count": 51,
      "outputs": [
        {
          "name": "stdout",
          "output_type": "stream",
          "text": [
            "Enter a number: 45\n"
          ]
        },
        {
          "output_type": "execute_result",
          "data": {
            "text/plain": [
              "bool"
            ]
          },
          "metadata": {},
          "execution_count": 51
        }
      ]
    },
    {
      "cell_type": "markdown",
      "source": [
        "10. Write code to demonstrate type casting with list elements."
      ],
      "metadata": {
        "id": "AiNJpumwaaHl"
      }
    },
    {
      "cell_type": "code",
      "source": [
        "# Original list with string numbers\n",
        "string_list = ['5', '10', '15', '20']\n",
        "print(\"Original string list:\", string_list)\n",
        "\n",
        "# Convert string to integer\n",
        "int_list = [int(item) for item in string_list]\n",
        "print(\"After casting to integers:\", int_list)\n",
        "\n",
        "# Convert integers to floats\n",
        "float_list = [float(item) for item in int_list]\n",
        "print(\"After casting to floats:\", float_list)\n",
        "\n",
        "# Convert integers to strings again\n",
        "str_list = [str(item) for item in int_list]\n",
        "print(\"After casting back to strings:\", str_list)"
      ],
      "metadata": {
        "colab": {
          "base_uri": "https://localhost:8080/"
        },
        "id": "UjIiw-zCdkwU",
        "outputId": "b79ab667-e62b-4a1c-ae2d-cfdd028e2553"
      },
      "execution_count": 58,
      "outputs": [
        {
          "output_type": "stream",
          "name": "stdout",
          "text": [
            "Original string list: ['5', '10', '15', '20']\n",
            "After casting to integers: [5, 10, 15, 20]\n",
            "After casting to floats: [5.0, 10.0, 15.0, 20.0]\n",
            "After casting back to strings: ['5', '10', '15', '20']\n"
          ]
        }
      ]
    },
    {
      "cell_type": "code",
      "source": [
        "11. Write a program that checks if a number is positive, negative, or zero."
      ],
      "metadata": {
        "id": "N8R1lNxNeLOI"
      },
      "execution_count": null,
      "outputs": []
    },
    {
      "cell_type": "code",
      "source": [
        "number = 42\n",
        "if number > 0:\n",
        "    print(\"positive\")\n",
        "elif number < 0:\n",
        "    print(\"negative\")\n",
        "else:\n",
        "    print(\"zero\")"
      ],
      "metadata": {
        "colab": {
          "base_uri": "https://localhost:8080/"
        },
        "id": "1_wL7O_xeaNb",
        "outputId": "71aa9253-67ac-40a1-f641-b5d78b747860"
      },
      "execution_count": 59,
      "outputs": [
        {
          "output_type": "stream",
          "name": "stdout",
          "text": [
            "positive\n"
          ]
        }
      ]
    },
    {
      "cell_type": "markdown",
      "source": [
        "12. Write a for loop to print numbers from 1 to 10."
      ],
      "metadata": {
        "id": "EfxTm-ibfSRy"
      }
    },
    {
      "cell_type": "code",
      "source": [
        "for i in range(1,11):\n",
        "    print(i)"
      ],
      "metadata": {
        "colab": {
          "base_uri": "https://localhost:8080/"
        },
        "id": "3-uOQxQBfLpP",
        "outputId": "02e5ee73-485c-49ae-d206-6587853651bb"
      },
      "execution_count": 62,
      "outputs": [
        {
          "output_type": "stream",
          "name": "stdout",
          "text": [
            "1\n",
            "2\n",
            "3\n",
            "4\n",
            "5\n",
            "6\n",
            "7\n",
            "8\n",
            "9\n",
            "10\n"
          ]
        }
      ]
    },
    {
      "cell_type": "markdown",
      "source": [
        "13. Write a Python program to find the sum of all even numbers between 1 and 50"
      ],
      "metadata": {
        "id": "70eUDKwwfu4y"
      }
    },
    {
      "cell_type": "code",
      "source": [
        "sum = 0\n",
        "for number in range(1,51):\n",
        "  if number % 2 == 0:\n",
        "    sum += number\n",
        "print(sum)"
      ],
      "metadata": {
        "colab": {
          "base_uri": "https://localhost:8080/"
        },
        "id": "AQAH63Eofejv",
        "outputId": "860a0399-5f47-4f54-de5d-9e7d824ecd2f"
      },
      "execution_count": 64,
      "outputs": [
        {
          "output_type": "stream",
          "name": "stdout",
          "text": [
            "650\n"
          ]
        }
      ]
    },
    {
      "cell_type": "markdown",
      "source": [
        "14. Write a program to reverse a string using a while loop."
      ],
      "metadata": {
        "id": "dlT_mgrohIOF"
      }
    },
    {
      "cell_type": "code",
      "source": [
        "name = \"Hariom\"\n",
        "reversed_name = \"\"\n",
        "index = len(name) - 1\n",
        "while index >= 0:\n",
        "    reversed_name += name[index]\n",
        "    index -= 1\n",
        "print(reversed_name)"
      ],
      "metadata": {
        "colab": {
          "base_uri": "https://localhost:8080/"
        },
        "id": "MNX4vEt3gqC4",
        "outputId": "d5a047e6-fae7-4358-f881-285a45c8ee91"
      },
      "execution_count": 65,
      "outputs": [
        {
          "output_type": "stream",
          "name": "stdout",
          "text": [
            "moiraH\n"
          ]
        }
      ]
    },
    {
      "cell_type": "markdown",
      "source": [
        "15. Write a Python program to calculate the factorial of a number provided by the user using a while loop."
      ],
      "metadata": {
        "id": "QWPXeObdiGzN"
      }
    },
    {
      "cell_type": "code",
      "source": [
        "number = int(input(\"Enter a number: \"))\n",
        "factorial = 1\n",
        "i = 1\n",
        "if number < 0:\n",
        "    print(\"Factorial does not exist for negative numbers.\")\n",
        "else:\n",
        "    while i <= number:\n",
        "        factorial *= i\n",
        "        i += 1\n",
        "    print(f\"Factorial of {number} is {factorial}\")"
      ],
      "metadata": {
        "colab": {
          "base_uri": "https://localhost:8080/"
        },
        "id": "Jc42HIyKh7gD",
        "outputId": "81e56bcb-a45b-4558-961a-7e6b794e668b"
      },
      "execution_count": 67,
      "outputs": [
        {
          "output_type": "stream",
          "name": "stdout",
          "text": [
            "Enter a number: 2\n",
            "Factorial of 2 is 2\n"
          ]
        }
      ]
    }
  ]
}