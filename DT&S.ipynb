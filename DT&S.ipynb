{
  "nbformat": 4,
  "nbformat_minor": 0,
  "metadata": {
    "colab": {
      "provenance": []
    },
    "kernelspec": {
      "name": "python3",
      "display_name": "Python 3"
    },
    "language_info": {
      "name": "python"
    }
  },
  "cells": [
    {
      "cell_type": "markdown",
      "source": [
        "#Data Types and Structures Questions\n"
      ],
      "metadata": {
        "id": "ytVm5aQ3HCOY"
      }
    },
    {
      "cell_type": "markdown",
      "source": [
        "1. What are data structures, and why are they important?\n",
        "  - Data structure is a way of organizing and storing data so that it can be accessed and manipulated efficiently.\n",
        "  - They are important because they organize, store, and manage data efficiently, helping to write faster, cleaner, and more effective code. Would you like a quick overview of common data structures?\n",
        "\n",
        "2. Explain the difference between mutable and immutable data types with examples?\n",
        "  - Mutable data types can be modified after creation\n",
        "     - Example: list, dictionary, set\n",
        "  - Immutable data types cannot be changed after creation\n",
        "      - Example: Strings, Tuples\n",
        "\n",
        "3. What are the main differences between lists and tuples in Python?\n",
        "The main differences between lists and tuples in Python are:\n",
        "\n",
        "  - Mutability\n",
        "    - Lists are mutable, we can modify, add, or remove elements after creating them.\n",
        "    - Tuples are immutable, it's once created, their size and contents cannot be changed.\n",
        "\n",
        "  - Syntax\n",
        "    - Lists are defined using square brackets[].\n",
        "    - Tuples are defined using parentheses().\n",
        "\n",
        "  - Usage\n",
        "    - Lists are typically used when you need a collection of items that can change dynamically.\n",
        "     - Tuples are used for fixed collections of items, especially when you want to ensure data remains unchanged.\n",
        "\n",
        "4. Describe how dictionaries store data?\n",
        "  - Dictionaries store data as key-value pairs, where each unique key maps to a specific value. They use a hash table for quick retrieval, allowing fast access, addition, or modification of data based on the key.\n",
        "\n",
        "5. Why might you use a set instead of a list in Python?\n",
        "  - we might use a set instead of a list in Python because sets automatically eliminate duplicates and allow for faster membership testing (checking if an item exists), making them ideal for ensuring unique items and performing quick lookups.\n",
        "\n",
        "6. What is a string in Python, and how is it different from a list?\n",
        "  - a string is a sequence of characters used to represent text, enclosed in quotes (single(' '), double(\" \"), or triple(''' ''').\n",
        "  - Key Difference:\n",
        "      - Strings are immutable but Lists are immutable.\n",
        "      - Strings are typically used for text data, whereas lists can store any data types and are used for collections of items.\n",
        "      - strings are represented in quotes \" \", whereas lists are represented in Square bracket [ ].\n",
        "\n",
        "7. How do tuples ensure data integrity in Python?\n",
        "  - Tuples ensure data integrity in Python because they are immutable, meaning once created, their contents cannot be changed. This prevents accidental modification of data, ensuring that the information stored in a tuple remains consistent and reliable throughout the program.\n",
        "\n",
        "8. What is a hash table, and how does it relate to dictionaries in Python?\n",
        "  - A hash table is a data structure that stores data using key-value pairs, allowing for fast data retrieval. In Python, dictionaries are implemented as hash tables, which enable quick access, insertion, and deletion of data based on keys through hashing.\n",
        "\n",
        "9. Can lists contain different data types in Python?\n",
        "  - Yes, lists can contain different data types. we can mix integers, strings, floats, and other objects within the same list.\n",
        "\n",
        "10. Explain why strings are immutable in Python?\n",
        "  - Strings are immutable in Python to ensure data integrity and security. Once a string is created, it cannot be changed, which allows Python to optimize performance, safely share string objects, and prevent unintended modifications that could lead to bugs/error.\n",
        "\n",
        "11. What advantages do dictionaries offer over lists for certain tasks?\n",
        "  - Dictionaries offer faster data access because they use keys to directly locate values, making lookups, insertions, and deletions very efficient. Unlike lists, which require searching through elements, dictionaries provide quick, constant-time performance for key-based operations, making them ideal for tasks that need fast access to data by unique identifiers.\n",
        "\n",
        "12. Describe a scenario where using a tuple would be preferable over a list?\n",
        "  - A tuple is preferable over a list when you need to store a fixed collection of data that should not change, such as coordinates (e.g., (latitude, longitude) or a record that must remain constant. Since tuples are immutable, they help ensure data integrity and prevent accidental modifications.\n",
        "\n",
        "13.  How do sets handle duplicate values in Python?\n",
        "  - Sets automatically remove duplicate values. If we add duplicate elements to a set, only one instance of each unique value is stored. This makes sets useful for ensuring all elements are unique.\n",
        "\n",
        "14. How does the “in” keyword work differently for lists and dictionaries?\n",
        "  - For lists, the \"in\" keyword checks if an element exists by searching through the list (membership test).  \n",
        "For dictionaries, \"in\" checks if a key exists in the dictionary, not the values.  \n",
        "\n",
        "15. Can you modify the elements of a tuple? Explain why or why not?\n",
        "  - No, we cannot modify the elements of a tuple because tuples are immutable. Once a tuple is created, its contents cannot be changed, added, or removed.\n",
        "\n",
        "16. What is a nested dictionary, and give an example of its use case?\n",
        "  - A nested dictionary is a dictionary that contains other dictionaries as its values. It is useful for representing complex data structures, like hierarchical or grouped data.\n",
        "  "
      ],
      "metadata": {
        "id": "la5pLy23y0Fs"
      }
    },
    {
      "cell_type": "code",
      "execution_count": 1,
      "metadata": {
        "id": "u1LoU8o6ysnW"
      },
      "outputs": [],
      "source": [
        "#USE CASE\n",
        "students = {\n",
        "    \"student1\": {\"name\": \"Hariom\", \"grade\": 87},\n",
        "    \"student2\": {\"name\": \"Harsh\", \"grade\": 62}\n",
        "}"
      ]
    },
    {
      "cell_type": "code",
      "source": [
        "students[\"student1\"]"
      ],
      "metadata": {
        "colab": {
          "base_uri": "https://localhost:8080/"
        },
        "id": "a2_UdXP8Cx5q",
        "outputId": "91cbc3f9-95be-4b97-e8db-3c33794e4483"
      },
      "execution_count": 5,
      "outputs": [
        {
          "output_type": "execute_result",
          "data": {
            "text/plain": [
              "{'name': 'Hariom', 'grade': 87}"
            ]
          },
          "metadata": {},
          "execution_count": 5
        }
      ]
    },
    {
      "cell_type": "markdown",
      "source": [
        "17. Describe the time complexity of accessing elements in a dictionary?\n",
        "  - Accessing elements in a dictionary has an average time complexity of O(1), it is very fast and nearly constant time. This efficiency comes from the use of hash tables, which allow direct access to values using keys.\n",
        "\n",
        "18. In what situations are lists preferred over dictionaries?\n",
        "  - Lists are preferred over dictionaries when the order of elements matters or when we need to store a collection of items that are accessed by position. They are also useful for simple sequences, like a list of names or numbers, where key-value pairing isn't necessary.\n",
        "\n",
        "19. Why are dictionaries considered unordered, and how does that affect data retrieval?\n",
        "  - Dictionaries are considered unordered because they don't store items in a specific sequence (before Python 3.7). This means data is accessed using keys, not positions, and the order of items is not guaranteed.\n",
        "\n",
        "20. Explain the difference between a list and a dictionary in terms of data retrieval.\n",
        "  - In a list, data is retrieved by position (index), which is ordered and accessed using numerical indices.  \n",
        "  - In a dictionary, data is retrieved by key, which is unordered (before Python 3.7) and allows direct access to values using descriptive keys.\n"
      ],
      "metadata": {
        "id": "W9VPgHOTEz2U"
      }
    },
    {
      "cell_type": "markdown",
      "source": [
        "#Practical Questions"
      ],
      "metadata": {
        "id": "S45AE0QNHNus"
      }
    },
    {
      "cell_type": "markdown",
      "source": [
        "1. Write a code to create a string with your name and print it."
      ],
      "metadata": {
        "id": "tH5S3dXuHtSj"
      }
    },
    {
      "cell_type": "code",
      "source": [
        "name = \"Hariom\"\n",
        "print(name)"
      ],
      "metadata": {
        "colab": {
          "base_uri": "https://localhost:8080/"
        },
        "id": "ELh8uCi2HZ14",
        "outputId": "e8e7a8ac-86cb-4154-985a-0eb5e5bf6733"
      },
      "execution_count": 7,
      "outputs": [
        {
          "output_type": "stream",
          "name": "stdout",
          "text": [
            "Hariom\n"
          ]
        }
      ]
    },
    {
      "cell_type": "markdown",
      "source": [
        "2. Write a code to find the length of the string \"Hello World\"."
      ],
      "metadata": {
        "id": "3sCCwkNyIFy0"
      }
    },
    {
      "cell_type": "code",
      "source": [
        "a = \"Hello World\"\n",
        "len(a)"
      ],
      "metadata": {
        "colab": {
          "base_uri": "https://localhost:8080/"
        },
        "id": "EDBx5x88H-ut",
        "outputId": "5c86869a-ed3a-4a80-df07-cfedbbda4f1f"
      },
      "execution_count": 8,
      "outputs": [
        {
          "output_type": "execute_result",
          "data": {
            "text/plain": [
              "11"
            ]
          },
          "metadata": {},
          "execution_count": 8
        }
      ]
    },
    {
      "cell_type": "markdown",
      "source": [
        "3. Write a code to slice the first 3 characters from the string \"Python Programming."
      ],
      "metadata": {
        "id": "7YPDZZQMIb3G"
      }
    },
    {
      "cell_type": "code",
      "source": [
        "string = \"Python Programming\"\n",
        "result = string[:3] # 0 to 2\n",
        "print(result)"
      ],
      "metadata": {
        "colab": {
          "base_uri": "https://localhost:8080/"
        },
        "id": "zwk_JVU2IU_s",
        "outputId": "51fe5513-f2ab-4c04-e4e4-277821813f95"
      },
      "execution_count": 9,
      "outputs": [
        {
          "output_type": "stream",
          "name": "stdout",
          "text": [
            "Pyt\n"
          ]
        }
      ]
    },
    {
      "cell_type": "markdown",
      "source": [
        "4. Write a code to convert the string \"hello\" to uppercase."
      ],
      "metadata": {
        "id": "4LRzYRwIJF1c"
      }
    },
    {
      "cell_type": "code",
      "source": [
        "a = \"Hello\"\n",
        "a.upper()"
      ],
      "metadata": {
        "colab": {
          "base_uri": "https://localhost:8080/",
          "height": 36
        },
        "id": "ko3kkS2kJAqR",
        "outputId": "06bb3dcc-f0a4-4d39-8aad-28fa4570f29c"
      },
      "execution_count": 10,
      "outputs": [
        {
          "output_type": "execute_result",
          "data": {
            "text/plain": [
              "'HELLO'"
            ],
            "application/vnd.google.colaboratory.intrinsic+json": {
              "type": "string"
            }
          },
          "metadata": {},
          "execution_count": 10
        }
      ]
    },
    {
      "cell_type": "markdown",
      "source": [
        "5. Write a code to replace the word \"apple\" with \"orange\" in the string \"I like apple\"."
      ],
      "metadata": {
        "id": "J_C2uaLCJZCr"
      }
    },
    {
      "cell_type": "code",
      "source": [
        "text = \"I like apple\"\n",
        "new_text = text.replace(\"apple\", \"orange\")\n",
        "print(new_text)"
      ],
      "metadata": {
        "colab": {
          "base_uri": "https://localhost:8080/"
        },
        "id": "xO1Q8p8OJUxW",
        "outputId": "676eb841-3dbe-4f6c-e23c-b05df813c87d"
      },
      "execution_count": 11,
      "outputs": [
        {
          "output_type": "stream",
          "name": "stdout",
          "text": [
            "I like orange\n"
          ]
        }
      ]
    },
    {
      "cell_type": "markdown",
      "source": [
        "6. Write a code to create a list with numbers 1 to 5 and print it."
      ],
      "metadata": {
        "id": "OlSCBcWekW1N"
      }
    },
    {
      "cell_type": "code",
      "source": [
        "numbers = [1, 2, 3, 4, 5]\n",
        "print(numbers)"
      ],
      "metadata": {
        "colab": {
          "base_uri": "https://localhost:8080/"
        },
        "id": "zBBrpQ1ObLl9",
        "outputId": "76aac1d1-1b63-4cf1-c401-9252ddec4426"
      },
      "execution_count": 12,
      "outputs": [
        {
          "output_type": "stream",
          "name": "stdout",
          "text": [
            "[1, 2, 3, 4, 5]\n"
          ]
        }
      ]
    },
    {
      "cell_type": "markdown",
      "source": [
        " 7. Write a code to append the number 10 to the list [1, 2, 3, 4]."
      ],
      "metadata": {
        "id": "csV6wiz2kzwd"
      }
    },
    {
      "cell_type": "code",
      "source": [
        "my_list = [1, 2, 3, 4]\n",
        "my_list.append(10)\n",
        "print(my_list)"
      ],
      "metadata": {
        "colab": {
          "base_uri": "https://localhost:8080/"
        },
        "id": "HXshCnCKkt6E",
        "outputId": "c1fdc226-584d-4f20-e61b-887fbea441a9"
      },
      "execution_count": 13,
      "outputs": [
        {
          "output_type": "stream",
          "name": "stdout",
          "text": [
            "[1, 2, 3, 4, 10]\n"
          ]
        }
      ]
    },
    {
      "cell_type": "markdown",
      "source": [
        "8. Write a code to remove the number 3 from the list [1, 2, 3, 4, 5]"
      ],
      "metadata": {
        "id": "ZX1g4rowlmfn"
      }
    },
    {
      "cell_type": "code",
      "source": [
        "my_list = [1, 2, 3, 4,5]\n",
        "my_list.remove(3)\n",
        "print(my_list)"
      ],
      "metadata": {
        "colab": {
          "base_uri": "https://localhost:8080/"
        },
        "id": "Dw2Xlg1alDN-",
        "outputId": "38a0768d-4285-429c-eeb1-d0cf531fca40"
      },
      "execution_count": 14,
      "outputs": [
        {
          "output_type": "stream",
          "name": "stdout",
          "text": [
            "[1, 2, 4, 5]\n"
          ]
        }
      ]
    },
    {
      "cell_type": "markdown",
      "source": [
        "9. Write a code to access the second element in the list ['a', 'b', 'c', 'd']."
      ],
      "metadata": {
        "id": "tIo9VQ0gmIOX"
      }
    },
    {
      "cell_type": "code",
      "source": [
        "my_list = [\"a,\", \"b\", \"c\", \"d\"]\n",
        "second_element = my_list[1]\n",
        "print(second_element)"
      ],
      "metadata": {
        "colab": {
          "base_uri": "https://localhost:8080/"
        },
        "id": "olfJYL7tl0Hv",
        "outputId": "79352fa2-51ee-4c32-bc1d-2fe886bbabce"
      },
      "execution_count": 15,
      "outputs": [
        {
          "output_type": "stream",
          "name": "stdout",
          "text": [
            "b\n"
          ]
        }
      ]
    },
    {
      "cell_type": "markdown",
      "source": [
        "10. Write a code to reverse the list [10, 20, 30, 40, 50]."
      ],
      "metadata": {
        "id": "_6ZcL53Tmqyn"
      }
    },
    {
      "cell_type": "code",
      "source": [
        "my_list = [10,20,30,40,50]\n",
        "my_list.reverse()\n",
        "print(my_list)"
      ],
      "metadata": {
        "colab": {
          "base_uri": "https://localhost:8080/"
        },
        "id": "XyIRx_9vmebS",
        "outputId": "a0971fc2-61e5-4ab8-99d5-23a92b03179f"
      },
      "execution_count": 16,
      "outputs": [
        {
          "output_type": "stream",
          "name": "stdout",
          "text": [
            "[50, 40, 30, 20, 10]\n"
          ]
        }
      ]
    },
    {
      "cell_type": "markdown",
      "source": [
        "11. Write a code to create a tuple with the elements 100, 200, 300 and print it."
      ],
      "metadata": {
        "id": "PotZfsp2neP1"
      }
    },
    {
      "cell_type": "code",
      "source": [
        "my_tuple = (100, 200, 300)\n",
        "print(my_tuple)"
      ],
      "metadata": {
        "colab": {
          "base_uri": "https://localhost:8080/"
        },
        "id": "0dd9h36MnUNN",
        "outputId": "eadc4fc5-af2e-43d5-ff49-588eddc5ab25"
      },
      "execution_count": 17,
      "outputs": [
        {
          "output_type": "stream",
          "name": "stdout",
          "text": [
            "(100, 200, 300)\n"
          ]
        }
      ]
    },
    {
      "cell_type": "code",
      "source": [
        "12. Write a code to access the second-to-last element of the tuple ('red', 'green', 'blue', 'yellow')."
      ],
      "metadata": {
        "id": "tepPEBssnpWM"
      },
      "execution_count": null,
      "outputs": []
    },
    {
      "cell_type": "code",
      "source": [
        "my_tuple = (\"red\", \"green\", \"blue\", \"yellow\")\n",
        "second_to_last_element = my_tuple[1:]\n",
        "print(second_to_last_element)"
      ],
      "metadata": {
        "colab": {
          "base_uri": "https://localhost:8080/"
        },
        "id": "Zs_Mxzcsn4H3",
        "outputId": "06ff1435-69bd-4434-9c36-663bf481020b"
      },
      "execution_count": 19,
      "outputs": [
        {
          "output_type": "stream",
          "name": "stdout",
          "text": [
            "('green', 'blue', 'yellow')\n"
          ]
        }
      ]
    },
    {
      "cell_type": "code",
      "source": [
        "13. Write a code to find the minimum number in the tuple (10, 20, 5, 15)."
      ],
      "metadata": {
        "id": "WXS0i3-8oUVP"
      },
      "execution_count": null,
      "outputs": []
    },
    {
      "cell_type": "code",
      "source": [
        "my_tuple = (10, 20, 5, 15)\n",
        "min_number = min(my_tuple)\n",
        "print(min_number)"
      ],
      "metadata": {
        "colab": {
          "base_uri": "https://localhost:8080/"
        },
        "id": "jiEGLogVomSP",
        "outputId": "cdb1fe0e-f098-405f-8c6b-e96283f47b7a"
      },
      "execution_count": 20,
      "outputs": [
        {
          "output_type": "stream",
          "name": "stdout",
          "text": [
            "5\n"
          ]
        }
      ]
    },
    {
      "cell_type": "markdown",
      "source": [
        "14. Write a code to find the index of the element \"cat\" in the tuple ('dog', 'cat', 'rabbit')."
      ],
      "metadata": {
        "id": "RDEPIZmPovMU"
      }
    },
    {
      "cell_type": "code",
      "source": [
        "my_tuple = (\"dog\", \"cat\", \"rabbit\")\n",
        "index = my_tuple.index(\"cat\")\n",
        "print(index)"
      ],
      "metadata": {
        "colab": {
          "base_uri": "https://localhost:8080/"
        },
        "id": "JwHN1Xb8oroH",
        "outputId": "c264b8b7-276f-4c0e-ccee-da7c0381c475"
      },
      "execution_count": 21,
      "outputs": [
        {
          "output_type": "stream",
          "name": "stdout",
          "text": [
            "1\n"
          ]
        }
      ]
    },
    {
      "cell_type": "markdown",
      "source": [
        "15. Write a code to create a tuple containing three different fruits and check if \"kiwi\" is in it."
      ],
      "metadata": {
        "id": "BZepO4GhpQ4Q"
      }
    },
    {
      "cell_type": "code",
      "source": [
        "my_tuple = (\"apple\", \"banana\", \"kiwi\")\n",
        "if \"kiwi\" in my_tuple:\n",
        "    print(\"kiwi is in the tuple\")\n",
        "else:\n",
        "    print(\"kiwi is not in the tuple\")"
      ],
      "metadata": {
        "colab": {
          "base_uri": "https://localhost:8080/"
        },
        "id": "hMDPKVmMpPZI",
        "outputId": "8f10bee6-b8da-4eb3-f93b-1e3560272882"
      },
      "execution_count": 22,
      "outputs": [
        {
          "output_type": "stream",
          "name": "stdout",
          "text": [
            "kiwi is in the tuple\n"
          ]
        }
      ]
    },
    {
      "cell_type": "markdown",
      "source": [
        "16. Write a code to create a set with the elements 'a', 'b', 'c' and print it."
      ],
      "metadata": {
        "id": "5pYF6ySlprip"
      }
    },
    {
      "cell_type": "code",
      "source": [
        "my_set = {\"a\",\"b\",\"c\"}\n",
        "print(my_set)"
      ],
      "metadata": {
        "colab": {
          "base_uri": "https://localhost:8080/"
        },
        "id": "AZeC3WVfpo37",
        "outputId": "7fc00804-9c45-4950-fb3f-767870ccaaf0"
      },
      "execution_count": 23,
      "outputs": [
        {
          "output_type": "stream",
          "name": "stdout",
          "text": [
            "{'b', 'c', 'a'}\n"
          ]
        }
      ]
    },
    {
      "cell_type": "markdown",
      "source": [
        "17. Write a code to clear all elements from the set {1, 2, 3, 4, 5}."
      ],
      "metadata": {
        "id": "9826GPvTqAoF"
      }
    },
    {
      "cell_type": "code",
      "source": [
        "my_set = {1, 2, 3, 4, 5}\n",
        "my_set.clear()\n",
        "print(my_set)"
      ],
      "metadata": {
        "colab": {
          "base_uri": "https://localhost:8080/"
        },
        "id": "2i1285typ7Wi",
        "outputId": "9905600f-3d94-496d-b617-5356472bc745"
      },
      "execution_count": 24,
      "outputs": [
        {
          "output_type": "stream",
          "name": "stdout",
          "text": [
            "set()\n"
          ]
        }
      ]
    },
    {
      "cell_type": "markdown",
      "source": [
        "18. Write a code to remove the element 4 from the set {1, 2, 3, 4}."
      ],
      "metadata": {
        "id": "xvoU4_NdqQlx"
      }
    },
    {
      "cell_type": "code",
      "source": [
        "my_set = {1,2,3,4}\n",
        "my_set.remove(4)\n",
        "print(my_set)"
      ],
      "metadata": {
        "colab": {
          "base_uri": "https://localhost:8080/"
        },
        "id": "ZyyPCCVVqnwh",
        "outputId": "7a928679-3ec1-4a77-ca98-234eff226cbb"
      },
      "execution_count": 27,
      "outputs": [
        {
          "output_type": "stream",
          "name": "stdout",
          "text": [
            "{1, 2, 3}\n"
          ]
        }
      ]
    },
    {
      "cell_type": "markdown",
      "source": [
        "19. Write a code to find the union of two sets {1, 2, 3} and {3, 4, 5}."
      ],
      "metadata": {
        "id": "9Ep3Hf0LrHEL"
      }
    },
    {
      "cell_type": "code",
      "source": [
        "set1 = {1,2,3}\n",
        "set2 = {3,4,5}\n",
        "union_set = set1 | (set2)\n",
        "print(union_set)"
      ],
      "metadata": {
        "colab": {
          "base_uri": "https://localhost:8080/"
        },
        "id": "yUnCKu3JrE9m",
        "outputId": "f3986ac8-940e-4e69-9004-2ba6fa6a801c"
      },
      "execution_count": 29,
      "outputs": [
        {
          "output_type": "stream",
          "name": "stdout",
          "text": [
            "{1, 2, 3, 4, 5}\n"
          ]
        }
      ]
    },
    {
      "cell_type": "markdown",
      "source": [
        "20. Write a code to find the intersection of two sets {1, 2, 3} and {2, 3, 4}."
      ],
      "metadata": {
        "id": "YzVIGpMIr8Rd"
      }
    },
    {
      "cell_type": "code",
      "source": [
        "set1 = {1,2,3}\n",
        "set2 = {2,3,4}\n",
        "intersection_set = set1 & set2\n",
        "print(intersection_set)"
      ],
      "metadata": {
        "colab": {
          "base_uri": "https://localhost:8080/"
        },
        "id": "OuGjquiCrqhk",
        "outputId": "237bc67c-6412-470c-9a91-8f8032a85ec4"
      },
      "execution_count": 30,
      "outputs": [
        {
          "output_type": "stream",
          "name": "stdout",
          "text": [
            "{2, 3}\n"
          ]
        }
      ]
    },
    {
      "cell_type": "markdown",
      "source": [
        "21. Write a code to create a dictionary with the keys \"name\", \"age\", and \"city\", and print it."
      ],
      "metadata": {
        "id": "dFNW_LQrsM8V"
      }
    },
    {
      "cell_type": "code",
      "source": [
        "my_dict = {\"name\": \"Hariom\", \"age\": 20, \"city\": \"Delhi\"}\n",
        "print(my_dict)"
      ],
      "metadata": {
        "colab": {
          "base_uri": "https://localhost:8080/"
        },
        "id": "dDt4eCsZsGRF",
        "outputId": "53642297-bb35-4bc1-c22e-06cd681daf1e"
      },
      "execution_count": 31,
      "outputs": [
        {
          "output_type": "stream",
          "name": "stdout",
          "text": [
            "{'name': 'Hariom', 'age': 20, 'city': 'Delhi'}\n"
          ]
        }
      ]
    },
    {
      "cell_type": "markdown",
      "source": [
        "22. Write a code to add a new key-value pair \"country\": \"USA\" to the dictionary {'name': 'John', 'age': 25}."
      ],
      "metadata": {
        "id": "Zj3nO4j9sZP2"
      }
    },
    {
      "cell_type": "code",
      "source": [
        "my_dict = {\"name\": \"John\", \"age\": 25}\n",
        "d1 = {\"country\": \"USA\"}\n",
        "my_dict.update(d1)\n",
        "print(my_dict)\n"
      ],
      "metadata": {
        "colab": {
          "base_uri": "https://localhost:8080/"
        },
        "id": "dCTZvgQysXze",
        "outputId": "8c4291d2-1e1c-4537-e405-7505150bc078"
      },
      "execution_count": 32,
      "outputs": [
        {
          "output_type": "stream",
          "name": "stdout",
          "text": [
            "{'name': 'John', 'age': 25, 'country': 'USA'}\n"
          ]
        }
      ]
    },
    {
      "cell_type": "markdown",
      "source": [
        "23. Write a code to access the value associated with the key \"name\" in the dictionary {'name': 'Alice', 'age': 30}."
      ],
      "metadata": {
        "id": "--mB32RatXD3"
      }
    },
    {
      "cell_type": "code",
      "source": [
        "my_dict = {\"name\": \"Alice\", \"age\": 30}\n",
        "my_dict[\"name\"]\n"
      ],
      "metadata": {
        "colab": {
          "base_uri": "https://localhost:8080/",
          "height": 36
        },
        "id": "YHFK92svtUsz",
        "outputId": "6d024438-4a66-4d3a-b1a8-47cc8ff3f531"
      },
      "execution_count": 37,
      "outputs": [
        {
          "output_type": "execute_result",
          "data": {
            "text/plain": [
              "'Alice'"
            ],
            "application/vnd.google.colaboratory.intrinsic+json": {
              "type": "string"
            }
          },
          "metadata": {},
          "execution_count": 37
        }
      ]
    },
    {
      "cell_type": "markdown",
      "source": [
        "24. Write a code to remove the key \"age\" from the dictionary {'name': 'Bob', 'age': 22, 'city': 'New York'}."
      ],
      "metadata": {
        "id": "bWJcGgr_uyKR"
      }
    },
    {
      "cell_type": "code",
      "source": [
        "my_dict = {\"name\": \"Bob\", \"age\": 22, \"city\": \"New York\"}\n",
        "my_dict.pop(\"age\")  #age is removed\n",
        "print(my_dict)"
      ],
      "metadata": {
        "colab": {
          "base_uri": "https://localhost:8080/"
        },
        "id": "wNs7MfYtt10p",
        "outputId": "0cf03507-076c-4c59-8b5d-aa34e32ad9ec"
      },
      "execution_count": 42,
      "outputs": [
        {
          "output_type": "stream",
          "name": "stdout",
          "text": [
            "{'name': 'Bob', 'city': 'New York'}\n"
          ]
        }
      ]
    },
    {
      "cell_type": "markdown",
      "source": [
        "25. Write a code to check if the key \"city\" exists in the dictionary {'name': 'Alice', 'city': 'Paris'}."
      ],
      "metadata": {
        "id": "_OdCMPrWwC5Y"
      }
    },
    {
      "cell_type": "code",
      "source": [
        "my_dict =  {\"name\": \"Alice\", \"city\": \"Paris\"}\n",
        "if \"city\" in my_dict:\n",
        "    print(\"city is in the dictionary\")\n",
        "else:\n",
        "    print(\"city is not in the dictionary\")"
      ],
      "metadata": {
        "colab": {
          "base_uri": "https://localhost:8080/"
        },
        "id": "wxEU7yLowJNF",
        "outputId": "11afae72-2105-46b0-a7ca-713fdddaa0fd"
      },
      "execution_count": 43,
      "outputs": [
        {
          "output_type": "stream",
          "name": "stdout",
          "text": [
            "city is in the dictionary\n"
          ]
        }
      ]
    },
    {
      "cell_type": "markdown",
      "source": [],
      "metadata": {
        "id": "dqG1g0X3uw-G"
      }
    },
    {
      "cell_type": "markdown",
      "source": [
        "26. Write a code to create a list, a tuple, and a dictionary, and print them all."
      ],
      "metadata": {
        "id": "ya4h3Ugfwckj"
      }
    },
    {
      "cell_type": "code",
      "source": [
        "my_list = [1,2,3,4,5]\n",
        "my_tuple = (1,2,3,4,5)\n",
        "my_dict = {\"name\": \"Hariom\", \"age\": 20, \"city\": \"Delhi\"}\n",
        "print(my_list)\n",
        "print(my_tuple)\n",
        "print(my_dict)"
      ],
      "metadata": {
        "colab": {
          "base_uri": "https://localhost:8080/"
        },
        "id": "lL20jQGjwihp",
        "outputId": "856b4172-c418-4931-d104-a8921a9a856e"
      },
      "execution_count": 44,
      "outputs": [
        {
          "output_type": "stream",
          "name": "stdout",
          "text": [
            "[1, 2, 3, 4, 5]\n",
            "(1, 2, 3, 4, 5)\n",
            "{'name': 'Hariom', 'age': 20, 'city': 'Delhi'}\n"
          ]
        }
      ]
    },
    {
      "cell_type": "markdown",
      "source": [
        "27. Write a code to create a list of 5 random numbers between 1 and 100, sort it in ascending order, and print the\n",
        "result.(replaced)"
      ],
      "metadata": {
        "id": "RtRxn3y4wwpP"
      }
    },
    {
      "cell_type": "code",
      "source": [
        "my_list = [10, 50, 95, 15]\n",
        "my_list.sort()\n",
        "print(my_list)"
      ],
      "metadata": {
        "colab": {
          "base_uri": "https://localhost:8080/"
        },
        "id": "9Q3nWKFfwu2c",
        "outputId": "2838ecee-b1df-4990-edd4-6b4ce083ae96"
      },
      "execution_count": 46,
      "outputs": [
        {
          "output_type": "stream",
          "name": "stdout",
          "text": [
            "[10, 15, 50, 95]\n"
          ]
        }
      ]
    },
    {
      "cell_type": "markdown",
      "source": [
        "28. 28. Write a code to create a list with strings and print the element at the third index."
      ],
      "metadata": {
        "id": "egY0T-dQyoI2"
      }
    },
    {
      "cell_type": "code",
      "source": [
        "my_list = [\"elephant\", \"dog\", \"cat\", ]\n",
        "third_element = my_list[2]\n",
        "print(third_element)"
      ],
      "metadata": {
        "colab": {
          "base_uri": "https://localhost:8080/"
        },
        "id": "96FfwDmDybMM",
        "outputId": "fc0f0da0-3c43-4ecd-889c-26baa54ee9d2"
      },
      "execution_count": 47,
      "outputs": [
        {
          "output_type": "stream",
          "name": "stdout",
          "text": [
            "cat\n"
          ]
        }
      ]
    },
    {
      "cell_type": "markdown",
      "source": [
        "29. Write a code to combine two dictionaries into one and print the result."
      ],
      "metadata": {
        "id": "iSWwdxRXz08v"
      }
    },
    {
      "cell_type": "code",
      "source": [
        "dict1 = {\"name\": \"Hariom\", \"age\": 20}\n",
        "dict2 = {\"city\": \"Delhi\", \"country\": \"India\"}\n",
        "dict1.update(dict2) #update dict2 in dict1\n",
        "print(dict1)"
      ],
      "metadata": {
        "colab": {
          "base_uri": "https://localhost:8080/"
        },
        "id": "igGwZkZ-ztCu",
        "outputId": "74d72aa3-3128-40e0-b3b4-4b21e0328159"
      },
      "execution_count": 48,
      "outputs": [
        {
          "output_type": "stream",
          "name": "stdout",
          "text": [
            "{'name': 'Hariom', 'age': 20, 'city': 'Delhi', 'country': 'India'}\n"
          ]
        }
      ]
    },
    {
      "cell_type": "markdown",
      "source": [
        "30. Write a code to convert a list of strings into a set"
      ],
      "metadata": {
        "id": "gB7vqYpr0JB-"
      }
    },
    {
      "cell_type": "code",
      "source": [
        "my_list = [\"dog\",\"cat\",\"cow\"]\n",
        "set(my_list)"
      ],
      "metadata": {
        "colab": {
          "base_uri": "https://localhost:8080/"
        },
        "id": "LVBNQ9Z00HOC",
        "outputId": "6feaf52b-5f23-4adf-af6f-c9f98db6a188"
      },
      "execution_count": 52,
      "outputs": [
        {
          "output_type": "execute_result",
          "data": {
            "text/plain": [
              "{'cat', 'cow', 'dog'}"
            ]
          },
          "metadata": {},
          "execution_count": 52
        }
      ]
    }
  ]
}